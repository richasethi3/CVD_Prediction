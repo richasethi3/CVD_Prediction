{
 "cells": [
  {
   "cell_type": "markdown",
   "metadata": {},
   "source": [
    "# Modeling"
   ]
  },
  {
   "cell_type": "code",
   "execution_count": 115,
   "metadata": {},
   "outputs": [],
   "source": [
    "#import libraries\n",
    "import pandas as pd\n",
    "import numpy as np\n",
    "import os\n",
    "import pickle\n",
    "import matplotlib.pyplot as plt\n",
    "import seaborn as sns\n",
    "from sklearn import __version__ as sklearn_version\n",
    "from sklearn.model_selection import cross_validate\n",
    "\n",
    "from sklearn.model_selection import GridSearchCV\n",
    "\n",
    "from sklearn.linear_model import LogisticRegression\n",
    "from imblearn.over_sampling import RandomOverSampler\n",
    "\n",
    "from sklearn.metrics import confusion_matrix, classification_report\n",
    "from sklearn.metrics import (roc_auc_score, accuracy_score, precision_score,\n",
    "                             recall_score, f1_score)\n",
    "from sklearn.metrics import (auc, roc_curve, precision_recall_curve,\n",
    "                             plot_precision_recall_curve, average_precision_score)\n",
    "from sklearn.metrics import precision_recall_fscore_support\n",
    "\n",
    "from sklearn.feature_selection import SelectKBest, f_classif\n",
    "from imblearn.pipeline import Pipeline\n",
    "\n",
    "import os\n",
    "import warnings\n",
    "warnings.filterwarnings('ignore')"
   ]
  },
  {
   "cell_type": "code",
   "execution_count": 116,
   "metadata": {},
   "outputs": [],
   "source": [
    "model_path = '../models/CVD_prediction_model.pkl'\n",
    "if os.path.exists(model_path):\n",
    "    with open(model_path, 'rb') as f:\n",
    "        model = pickle.load(f)\n",
    "else:\n",
    "    print(\"Expected model not found\")"
   ]
  },
  {
   "cell_type": "code",
   "execution_count": 117,
   "metadata": {},
   "outputs": [
    {
     "data": {
      "text/plain": [
       "Pipeline(steps=[('selectkbest', SelectKBest(k=5)), ('ros', RandomOverSampler()),\n",
       "                ('LR', LogisticRegression(C=0.001))])"
      ]
     },
     "execution_count": 117,
     "metadata": {},
     "output_type": "execute_result"
    }
   ],
   "source": [
    "model"
   ]
  },
  {
   "cell_type": "code",
   "execution_count": 118,
   "metadata": {},
   "outputs": [],
   "source": [
    "X_train = pd.read_csv('../data/X_train.csv')\n",
    "y_train = pd.read_csv('../data/y_train.csv')\n",
    "X_test = pd.read_csv('../data/X_test.csv')\n",
    "y_test = pd.read_csv('../data/y_test.csv')\n",
    "y_test = np.array(y_test).ravel()\n",
    "y_train = np.array(y_train).ravel()"
   ]
  },
  {
   "cell_type": "code",
   "execution_count": 129,
   "metadata": {
    "scrolled": true
   },
   "outputs": [
    {
     "name": "stdout",
     "output_type": "stream",
     "text": [
      "\n",
      "Confusion Matrix: \n",
      " [[1831  745]\n",
      " [  68  254]]\n",
      "\n",
      "Precision: 0.2543\n",
      "Recall: 0.7888\n",
      "\n",
      "Area under PRC: 0.3362\n",
      "Area under ROC: 0.7498\n"
     ]
    }
   ],
   "source": [
    "model.fit(X_train, y_train)\n",
    "\n",
    "y_pred_final = model.predict(X_test)\n",
    "\n",
    "y_predprob_final = model.predict_proba(X_test)[:,1]\n",
    "\n",
    "print(\"\\nConfusion Matrix: \\n\", confusion_matrix(y_test, y_pred_final))\n",
    "print('')\n",
    "print('Precision: %.4f' %(precision_score(y_test, y_pred_final)))\n",
    "print('Recall: %.4f' %(recall_score(y_test, y_pred_final)))\n",
    "print('')\n",
    "precision, recall, thresholds = precision_recall_curve(y_test, y_predprob_final)\n",
    "\n",
    "print('Area under PRC: %.4f'%(auc(recall, precision)))\n",
    "\n",
    "fp, tp, th = roc_curve(y_test, y_pred_final)\n",
    "print('Area under ROC: %.4f'%(auc(fp, tp)))"
   ]
  },
  {
   "cell_type": "code",
   "execution_count": 122,
   "metadata": {},
   "outputs": [
    {
     "name": "stdout",
     "output_type": "stream",
     "text": [
      "\n",
      "Confusion Matrix: \n",
      " [[1855  721]\n",
      " [  57  265]]\n",
      "\n",
      "Precision: 0.2688\n",
      "Recall: 0.8230\n",
      "\n",
      "Area under PRC: 0.3615\n",
      "Area under ROC: 0.7715\n"
     ]
    }
   ],
   "source": [
    "X_train_feat = X_train[['age', 'family_history_cat', 'diabetes_cat', 'kidney_cat', 'smoking_cat']]\n",
    "X_test_feat = X_test[['age', 'family_history_cat', 'diabetes_cat', 'kidney_cat', 'smoking_cat']]\n",
    "\n",
    "model.fit(X_train_feat, y_train)\n",
    "\n",
    "y_pred_final_feat = model.predict(X_test_feat)\n",
    "\n",
    "y_predprob_final_feat = model.predict_proba(X_test_feat)[:,1]\n",
    "\n",
    "print(\"\\nConfusion Matrix: \\n\", confusion_matrix(y_test, y_pred_final_feat))\n",
    "print('')\n",
    "print('Precision: %.4f' %(precision_score(y_test, y_pred_final_feat)))\n",
    "print('Recall: %.4f' %(recall_score(y_test, y_pred_final_feat)))\n",
    "print('')\n",
    "precision, recall, thresholds = precision_recall_curve(y_test, y_predprob_final_feat)\n",
    "\n",
    "print('Area under PRC: %.4f'%(auc(recall, precision)))\n",
    "\n",
    "fp, tp, th = roc_curve(y_test, y_pred_final_feat)\n",
    "print('Area under ROC: %.4f'%(auc(fp, tp)))"
   ]
  },
  {
   "cell_type": "code",
   "execution_count": 130,
   "metadata": {},
   "outputs": [],
   "source": [
    "import ipywidgets as widgets\n",
    "import ipywidgets\n",
    "from IPython.display import clear_output"
   ]
  },
  {
   "cell_type": "code",
   "execution_count": 131,
   "metadata": {
    "scrolled": true
   },
   "outputs": [],
   "source": [
    "style = {'description_width':'350px'} \n",
    "layout = {'width': '450px'}\n",
    "\n",
    "gender = widgets.Dropdown(\n",
    "       options=['male', 'female'],\n",
    "       value='male',\n",
    "       description=\"What's your gender?\", style=style, layout=layout)\n",
    "\n",
    "age = widgets.IntText(\n",
    "    value=35,\n",
    "    description=\"What's your age?\", style=style, layout=layout,\n",
    "    disabled=False)\n",
    "\n",
    "fam_history = widgets.Dropdown(\n",
    "       options=['yes', 'no', \"don't know\"],\n",
    "       value='yes',\n",
    "       description='Do you have a family member/relative with heart disease?', style=style, layout=layout)\n",
    "\n",
    "diabetes = widgets.Dropdown(\n",
    "       options=['yes', 'no', 'borderline', \"don't know\"],\n",
    "       value='yes',\n",
    "       description='Do you have diabetes?', style=style, layout=layout)\n",
    "\n",
    "kidney = widgets.Dropdown(\n",
    "       options=['yes', 'no'],\n",
    "       value='yes',\n",
    "       description='Have you had kidney failure?', style=style, layout=layout)\n",
    "\n",
    "smoking = widgets.Dropdown(\n",
    "       options=['yes', 'no'],\n",
    "       value='yes',\n",
    "       description='Do you smoke or have smoked in the past?', style=style, layout=layout)"
   ]
  },
  {
   "cell_type": "code",
   "execution_count": 132,
   "metadata": {},
   "outputs": [
    {
     "data": {
      "application/vnd.jupyter.widget-view+json": {
       "model_id": "9acd315b24064eabbf3b4c040a2599fb",
       "version_major": 2,
       "version_minor": 0
      },
      "text/plain": [
       "VBox(children=(IntText(value=35, description=\"What's your age?\", layout=Layout(width='450px'), style=Descripti…"
      ]
     },
     "metadata": {},
     "output_type": "display_data"
    },
    {
     "data": {
      "application/vnd.jupyter.widget-view+json": {
       "model_id": "a0ffc5bfdf014180a48f154d35ff2705",
       "version_major": 2,
       "version_minor": 0
      },
      "text/plain": [
       "Button(description='Get my heart disease risk!', icon='heartbeat', layout=Layout(width='200px'), style=ButtonS…"
      ]
     },
     "metadata": {},
     "output_type": "display_data"
    },
    {
     "data": {
      "application/vnd.jupyter.widget-view+json": {
       "model_id": "729dc89b40b641ef808ce8382f3e0f22",
       "version_major": 2,
       "version_minor": 0
      },
      "text/plain": [
       "Output()"
      ]
     },
     "metadata": {},
     "output_type": "display_data"
    }
   ],
   "source": [
    "box = widgets.VBox([age, fam_history, diabetes, kidney, smoking])\n",
    "display(box)\n",
    "button = widgets.Button(description='Get my heart disease risk!', icon='fa-heartbeat', layout={'width': '200px'})\n",
    "display(button)\n",
    "out = widgets.Output()\n",
    "display(out)\n",
    "\n",
    "def onButtonClick(b):\n",
    "    inp = pd.DataFrame(columns=['age', 'family_history_cat', 'diabetes_cat', 'kidney_cat', 'smoking_cat'])\n",
    "    inp_df = inp.append({'gender': gender.value, 'age': age.value, 'family_history_cat': fam_history.value,\n",
    "           'diabetes_cat': diabetes.value, 'kidney_cat': kidney.value, 'smoking_cat':smoking.value}, ignore_index=True)\n",
    "    to_scale = 'age'\n",
    "    not_to_scale = ['family_history_cat', 'diabetes_cat', 'kidney_cat', 'smoking_cat']\n",
    "    scaler = StandardScaler()\n",
    "    scaled_val = pd.DataFrame(scaler.fit_transform(np.array(X_tr[to_scale]).reshape(-1,1)))\n",
    "    scaled_val = pd.DataFrame(scaler.transform(np.array(inp_df[to_scale]).reshape(-1,1)),\n",
    "                          columns=['age']).reset_index(drop=True)\n",
    "    risk_input=pd.concat([scaled_val, inp_df[not_to_scale].reset_index(drop=True)], axis=1)\n",
    "    risk_input['family_history_cat'].replace(['yes','no', \"don't know\"],[1, 0, 0],inplace=True)\n",
    "    risk_input['diabetes_cat'].replace(['yes','no', 'borderline', \"don't know\"], [1, 0, 1, 0],inplace=True)\n",
    "    risk_input['kidney_cat'].replace(['yes','no'], [1, 0],inplace=True)\n",
    "    risk_input['smoking_cat'].replace(['yes','no'],[1, 0],inplace=True)\n",
    "    \n",
    "    steps = [('rus',RandomUnderSampler(random_state=42)), ('LR', LogisticRegression(random_state=42))]\n",
    "    pipeline = Pipeline(steps)\n",
    "    params = [{'LR__C':[.001,.01,.1,1,10,100]}]\n",
    "    lrus_cv = GridSearchCV(pipeline, params, cv=5)\n",
    "    X_train_2 = X_train[['age', 'family_history_cat', 'diabetes_cat', 'kidney_cat', 'smoking_cat']]\n",
    "    X_val_2 = risk_input\n",
    "    lrus_cv.fit(X_train_2, y_train)\n",
    "    y_pred = lrus_cv.predict(X_val_2)\n",
    "    y_predprob = lrus_cv.predict_proba(X_val_2)[:,1]\n",
    "    \n",
    "    with out:\n",
    "        clear_output(True)\n",
    "        print('You have a {}% chance of having a cardiovascular disease.'.format(int(y_predprob*100)))\n",
    "\n",
    "button.on_click(onButtonClick)"
   ]
  },
  {
   "cell_type": "code",
   "execution_count": null,
   "metadata": {},
   "outputs": [],
   "source": []
  }
 ],
 "metadata": {
  "kernelspec": {
   "display_name": "Capstone2_env",
   "language": "python",
   "name": "capstone2_env"
  },
  "language_info": {
   "codemirror_mode": {
    "name": "ipython",
    "version": 3
   },
   "file_extension": ".py",
   "mimetype": "text/x-python",
   "name": "python",
   "nbconvert_exporter": "python",
   "pygments_lexer": "ipython3",
   "version": "3.8.3"
  }
 },
 "nbformat": 4,
 "nbformat_minor": 4
}
