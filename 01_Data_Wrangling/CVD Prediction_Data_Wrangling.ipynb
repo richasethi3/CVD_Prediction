{
 "cells": [
  {
   "cell_type": "code",
   "execution_count": 96,
   "metadata": {},
   "outputs": [],
   "source": [
    "#import packages\n",
    "import pandas as pd\n",
    "import numpy as np\n",
    "from functools import reduce\n",
    "import matplotlib.pyplot as plt\n",
    "import seaborn as sns\n",
    "%matplotlib inline\n",
    "sns.set(style=\"white\", palette=\"muted\", color_codes=True)\n",
    "import os\n",
    "import warnings\n",
    "warnings.filterwarnings('ignore')"
   ]
  },
  {
   "cell_type": "code",
   "execution_count": 97,
   "metadata": {},
   "outputs": [],
   "source": [
    "#use method from https://github.com/mrwyattii/NHANES-Downloader to download and concatenate the demographics data from\n",
    "#CDC website\n",
    "filenames = ['../NHANES-Downloader/data/raw_data/2005-2006/Demographics/DEMO_D.XPT',\n",
    "             '../NHANES-Downloader/data/raw_data/2007-2008/Demographics/DEMO_E.XPT',\n",
    "             '../NHANES-Downloader/data/raw_data/2009-2010/Demographics/DEMO_F.XPT',\n",
    "             '../NHANES-Downloader/data/raw_data/2011-2012/Demographics/DEMO_G.XPT',\n",
    "             '../NHANES-Downloader/data/raw_data/2013-2014/Demographics/DEMO_H.XPT',\n",
    "             '../NHANES-Downloader/data/raw_data/2015-2016/Demographics/DEMO_I.XPT']\n",
    "  \n",
    "demo_df = [] \n",
    "for filename in filenames: \n",
    "    demo_df.append(pd.read_sas(filename))"
   ]
  },
  {
   "cell_type": "code",
   "execution_count": 98,
   "metadata": {},
   "outputs": [],
   "source": [
    "#rename the income column for 2005-2006 to be consistent with rest of the years\n",
    "demo_df[0] = demo_df[0].rename(columns={'INDFMINC': 'INDFMIN2'})\n",
    "demo_df = pd.concat(demo_df, ignore_index=True)"
   ]
  },
  {
   "cell_type": "code",
   "execution_count": 99,
   "metadata": {},
   "outputs": [],
   "source": [
    "#picking the relevant columns from demographics\n",
    "demo_list = ['SEQN', 'RIAGENDR', 'RIDAGEYR', 'RIDRETH1', 'INDFMIN2']\n",
    "demo = demo_df.loc[:, demo_list]"
   ]
  },
  {
   "cell_type": "code",
   "execution_count": 100,
   "metadata": {},
   "outputs": [],
   "source": [
    "#use method from https://github.com/mrwyattii/NHANES-Downloader to download and concatenate the blood pressure data\n",
    "#from CDC website\n",
    "filenames = ['../NHANES-Downloader/data/raw_data/2005-2006/Examination/BPX_D.XPT',\n",
    "             '../NHANES-Downloader/data/raw_data/2007-2008/Examination/BPX_E.XPT',\n",
    "             '../NHANES-Downloader/data/raw_data/2009-2010/Examination/BPX_F.XPT',\n",
    "             '../NHANES-Downloader/data/raw_data/2011-2012/Examination/BPX_G.XPT',\n",
    "             '../NHANES-Downloader/data/raw_data/2013-2014/Examination/BPX_H.XPT',\n",
    "             '../NHANES-Downloader/data/raw_data/2015-2016/Examination/BPX_I.XPT']\n",
    "  \n",
    "bpx_df = [] \n",
    "for filename in filenames: \n",
    "    bpx_df.append(pd.read_sas(filename))"
   ]
  },
  {
   "cell_type": "code",
   "execution_count": 101,
   "metadata": {},
   "outputs": [],
   "source": [
    "#picking the relevant columns\n",
    "bpx_df = pd.concat(bpx_df, ignore_index=True)\n",
    "bpx_list = ['SEQN', 'BPXPULS','BPXSY1', 'BPXDI1']\n",
    "bpx = bpx_df.loc[:, bpx_list]"
   ]
  },
  {
   "cell_type": "code",
   "execution_count": 102,
   "metadata": {},
   "outputs": [],
   "source": [
    "#use method from https://github.com/mrwyattii/NHANES-Downloader to download and concatenate the bmi data from\n",
    "#CDC website\n",
    "filenames = ['../NHANES-Downloader/data/raw_data/2005-2006/Examination/BMX_D.XPT',\n",
    "             '../NHANES-Downloader/data/raw_data/2007-2008/Examination/BMX_E.XPT',\n",
    "             '../NHANES-Downloader/data/raw_data/2009-2010/Examination/BMX_F.XPT',\n",
    "             '../NHANES-Downloader/data/raw_data/2011-2012/Examination/BMX_G.XPT',\n",
    "             '../NHANES-Downloader/data/raw_data/2013-2014/Examination/BMX_H.XPT',\n",
    "             '../NHANES-Downloader/data/raw_data/2015-2016/Examination/BMX_I.XPT']\n",
    "\n",
    "  \n",
    "bmx_df = [] \n",
    "for filename in filenames: \n",
    "    bmx_df.append(pd.read_sas(filename))"
   ]
  },
  {
   "cell_type": "code",
   "execution_count": 103,
   "metadata": {},
   "outputs": [],
   "source": [
    "#picking the relevant columns from bmi dataset\n",
    "bmx_df = pd.concat(bmx_df, ignore_index=True)\n",
    "bmx_list = ['SEQN', 'BMXBMI', 'BMXWAIST']\n",
    "bmx = bmx_df.loc[:, bmx_list]"
   ]
  },
  {
   "cell_type": "code",
   "execution_count": 104,
   "metadata": {},
   "outputs": [],
   "source": [
    "#use method from https://github.com/mrwyattii/NHANES-Downloader to download and concatenate the hdl data from\n",
    "#CDC website\n",
    "filenames = ['../NHANES-Downloader/data/raw_data/2005-2006/Laboratory/HDL_D.XPT',\n",
    "             '../NHANES-Downloader/data/raw_data/2007-2008/Laboratory/HDL_E.XPT',\n",
    "             '../NHANES-Downloader/data/raw_data/2009-2010/Laboratory/HDL_F.XPT',\n",
    "             '../NHANES-Downloader/data/raw_data/2011-2012/Laboratory/HDL_G.XPT',\n",
    "             '../NHANES-Downloader/data/raw_data/2013-2014/Laboratory/HDL_H.XPT',\n",
    "             '../NHANES-Downloader/data/raw_data/2015-2016/Laboratory/HDL_I.XPT']\n",
    "\n",
    "hdl_df = [] \n",
    "for filename in filenames: \n",
    "    hdl_df.append(pd.read_sas(filename))"
   ]
  },
  {
   "cell_type": "code",
   "execution_count": 105,
   "metadata": {},
   "outputs": [],
   "source": [
    "#picking the relevant columns from ldl dataset\n",
    "hdl_df = pd.concat(hdl_df, ignore_index=True)\n",
    "hdl_list = ['SEQN', 'LBDHDD']\n",
    "hdl = hdl_df.loc[:, hdl_list]"
   ]
  },
  {
   "cell_type": "code",
   "execution_count": 106,
   "metadata": {},
   "outputs": [],
   "source": [
    "#use method from https://github.com/mrwyattii/NHANES-Downloader to download and concatenate the triglycerides data from\n",
    "#CDC website\n",
    "filenames = ['../NHANES-Downloader/data/raw_data/2005-2006/Laboratory/TRIGLY_D.XPT',\n",
    "             '../NHANES-Downloader/data/raw_data/2007-2008/Laboratory/TRIGLY_E.XPT',\n",
    "             '../NHANES-Downloader/data/raw_data/2009-2010/Laboratory/TRIGLY_F.XPT',\n",
    "             '../NHANES-Downloader/data/raw_data/2011-2012/Laboratory/TRIGLY_G.XPT',\n",
    "             '../NHANES-Downloader/data/raw_data/2013-2014/Laboratory/TRIGLY_H.XPT',\n",
    "             '../NHANES-Downloader/data/raw_data/2015-2016/Laboratory/TRIGLY_I.XPT']\n",
    "\n",
    "trigly_df = [] \n",
    "for filename in filenames: \n",
    "    trigly_df.append(pd.read_sas(filename))"
   ]
  },
  {
   "cell_type": "code",
   "execution_count": 107,
   "metadata": {},
   "outputs": [],
   "source": [
    "#picking the relevant columns from triglycerides dataset\n",
    "trigly_df = pd.concat(trigly_df, ignore_index=True)\n",
    "trigly_list = ['SEQN', 'LBXTR', 'LBDLDL']\n",
    "trigly = trigly_df.loc[:, trigly_list]"
   ]
  },
  {
   "cell_type": "code",
   "execution_count": 108,
   "metadata": {},
   "outputs": [],
   "source": [
    "#use method from https://github.com/mrwyattii/NHANES-Downloader to download and concatenate the cholestrol data from\n",
    "#CDC website\n",
    "filenames = ['../NHANES-Downloader/data/raw_data/2005-2006/Laboratory/TCHOL_D.XPT',\n",
    "             '../NHANES-Downloader/data/raw_data/2007-2008/Laboratory/TCHOL_E.XPT',\n",
    "             '../NHANES-Downloader/data/raw_data/2009-2010/Laboratory/TCHOL_F.XPT',\n",
    "             '../NHANES-Downloader/data/raw_data/2011-2012/Laboratory/TCHOL_G.XPT',\n",
    "             '../NHANES-Downloader/data/raw_data/2013-2014/Laboratory/TCHOL_H.XPT',\n",
    "             '../NHANES-Downloader/data/raw_data/2015-2016/Laboratory/TCHOL_I.XPT']\n",
    "\n",
    "tchol_df = [] \n",
    "for filename in filenames: \n",
    "    tchol_df.append(pd.read_sas(filename))"
   ]
  },
  {
   "cell_type": "code",
   "execution_count": 109,
   "metadata": {},
   "outputs": [],
   "source": [
    "#picking the relevant columns from cholestrol dataset\n",
    "tchol_df = pd.concat(tchol_df, ignore_index=True)\n",
    "tchol_list = ['SEQN', 'LBXTC']\n",
    "tchol = tchol_df.loc[:, tchol_list]"
   ]
  },
  {
   "cell_type": "code",
   "execution_count": 110,
   "metadata": {},
   "outputs": [],
   "source": [
    "#use method from https://github.com/mrwyattii/NHANES-Downloader to download and concatenate the diabetes data from\n",
    "#CDC website\n",
    "filenames = ['../NHANES-Downloader/data/raw_data/2005-2006/Questionnaire/DIQ_D.XPT',\n",
    "             '../NHANES-Downloader/data/raw_data/2007-2008/Questionnaire/DIQ_E.XPT',\n",
    "             '../NHANES-Downloader/data/raw_data/2009-2010/Questionnaire/DIQ_F.XPT',\n",
    "             '../NHANES-Downloader/data/raw_data/2011-2012/Questionnaire/DIQ_G.XPT',\n",
    "             '../NHANES-Downloader/data/raw_data/2013-2014/Questionnaire/DIQ_H.XPT',\n",
    "             '../NHANES-Downloader/data/raw_data/2015-2016/Questionnaire/DIQ_I.XPT']\n",
    "\n",
    "diab_df = [] \n",
    "for filename in filenames: \n",
    "    diab_df.append(pd.read_sas(filename))"
   ]
  },
  {
   "cell_type": "code",
   "execution_count": 111,
   "metadata": {},
   "outputs": [],
   "source": [
    "#picking the relevant columns from diabetes dataset\n",
    "diab_df = pd.concat(diab_df, ignore_index=True)\n",
    "diab_list = ['SEQN', 'DIQ010']\n",
    "diab = diab_df.loc[:, diab_list]"
   ]
  },
  {
   "cell_type": "code",
   "execution_count": 112,
   "metadata": {},
   "outputs": [],
   "source": [
    "#use method from https://github.com/mrwyattii/NHANES-Downloader to download and concatenate the kidneys data from\n",
    "#CDC website\n",
    "filenames = ['../NHANES-Downloader/data/raw_data/2005-2006/Questionnaire/KIQ_U_D.XPT',\n",
    "             '../NHANES-Downloader/data/raw_data/2007-2008/Questionnaire/KIQ_U_E.XPT',\n",
    "             '../NHANES-Downloader/data/raw_data/2009-2010/Questionnaire/KIQ_U_F.XPT',\n",
    "             '../NHANES-Downloader/data/raw_data/2011-2012/Questionnaire/KIQ_U_G.XPT',\n",
    "             '../NHANES-Downloader/data/raw_data/2013-2014/Questionnaire/KIQ_U_H.XPT',\n",
    "             '../NHANES-Downloader/data/raw_data/2015-2016/Questionnaire/KIQ_U_I.XPT']\n",
    "\n",
    "kidney_df = [] \n",
    "for filename in filenames: \n",
    "    kidney_df.append(pd.read_sas(filename))"
   ]
  },
  {
   "cell_type": "code",
   "execution_count": 113,
   "metadata": {},
   "outputs": [],
   "source": [
    "#picking the relevant columns from diabetes dataset\n",
    "kidney_df = pd.concat(kidney_df, ignore_index=True)\n",
    "kidney_list = ['SEQN', 'KIQ022']\n",
    "kidney = kidney_df.loc[:, kidney_list]"
   ]
  },
  {
   "cell_type": "code",
   "execution_count": 114,
   "metadata": {},
   "outputs": [],
   "source": [
    "#use method from https://github.com/mrwyattii/NHANES-Downloader to download and concatenate the heart function\n",
    "#data from CDC website\n",
    "filenames = ['../NHANES-Downloader/data/raw_data/2005-2006/Questionnaire/MCQ_D.XPT',\n",
    "             '../NHANES-Downloader/data/raw_data/2007-2008/Questionnaire/MCQ_E.XPT',\n",
    "             '../NHANES-Downloader/data/raw_data/2009-2010/Questionnaire/MCQ_F.XPT',\n",
    "             '../NHANES-Downloader/data/raw_data/2011-2012/Questionnaire/MCQ_G.XPT',\n",
    "             '../NHANES-Downloader/data/raw_data/2013-2014/Questionnaire/MCQ_H.XPT',\n",
    "             '../NHANES-Downloader/data/raw_data/2015-2016/Questionnaire/MCQ_I.XPT']\n",
    "\n",
    "heart_df = [] \n",
    "for filename in filenames: \n",
    "    heart_df.append(pd.read_sas(filename))"
   ]
  },
  {
   "cell_type": "code",
   "execution_count": 115,
   "metadata": {},
   "outputs": [],
   "source": [
    "#picking the relevant columns from diabetes dataset\n",
    "heart_df = pd.concat(heart_df, ignore_index=True)\n",
    "heart_list = ['SEQN', 'MCQ160B', 'MCQ160C', 'MCQ160D', 'MCQ160E', 'MCQ160F', 'MCQ300A']\n",
    "heart = heart_df.loc[:, heart_list]"
   ]
  },
  {
   "cell_type": "code",
   "execution_count": 116,
   "metadata": {},
   "outputs": [],
   "source": [
    "#use method from https://github.com/mrwyattii/NHANES-Downloader to download and concatenate the smoking\n",
    "#data from CDC website\n",
    "filenames = ['../NHANES-Downloader/data/raw_data/2005-2006/Questionnaire/SMQ_D.XPT',\n",
    "             '../NHANES-Downloader/data/raw_data/2007-2008/Questionnaire/SMQ_E.XPT',\n",
    "             '../NHANES-Downloader/data/raw_data/2009-2010/Questionnaire/SMQ_F.XPT',\n",
    "             '../NHANES-Downloader/data/raw_data/2011-2012/Questionnaire/SMQ_G.XPT',\n",
    "             '../NHANES-Downloader/data/raw_data/2013-2014/Questionnaire/SMQ_H.XPT',\n",
    "             '../NHANES-Downloader/data/raw_data/2015-2016/Questionnaire/SMQ_I.XPT']\n",
    "\n",
    "smoking_df = [] \n",
    "for filename in filenames: \n",
    "    smoking_df.append(pd.read_sas(filename))"
   ]
  },
  {
   "cell_type": "code",
   "execution_count": 117,
   "metadata": {},
   "outputs": [],
   "source": [
    "#picking the relevant columns from smoking dataset\n",
    "smoking_df = pd.concat(smoking_df, ignore_index=True)\n",
    "smoking_list = ['SEQN', 'SMQ020']\n",
    "smoking = smoking_df.loc[:, smoking_list]"
   ]
  },
  {
   "cell_type": "code",
   "execution_count": 118,
   "metadata": {},
   "outputs": [],
   "source": [
    "#merging all the data from above on SEQN\n",
    "pdList = [demo, bpx, bmx, hdl, trigly, tchol, diab,\n",
    "          kidney, heart, smoking]\n",
    "cvd_df = reduce(lambda x,y: pd.merge(x,y, on='SEQN', how='outer'), pdList)"
   ]
  },
  {
   "cell_type": "code",
   "execution_count": 119,
   "metadata": {},
   "outputs": [
    {
     "data": {
      "text/html": [
       "<div>\n",
       "<style scoped>\n",
       "    .dataframe tbody tr th:only-of-type {\n",
       "        vertical-align: middle;\n",
       "    }\n",
       "\n",
       "    .dataframe tbody tr th {\n",
       "        vertical-align: top;\n",
       "    }\n",
       "\n",
       "    .dataframe thead th {\n",
       "        text-align: right;\n",
       "    }\n",
       "</style>\n",
       "<table border=\"1\" class=\"dataframe\">\n",
       "  <thead>\n",
       "    <tr style=\"text-align: right;\">\n",
       "      <th></th>\n",
       "      <th>0</th>\n",
       "      <th>1</th>\n",
       "      <th>2</th>\n",
       "      <th>3</th>\n",
       "      <th>4</th>\n",
       "    </tr>\n",
       "  </thead>\n",
       "  <tbody>\n",
       "    <tr>\n",
       "      <th>SEQN</th>\n",
       "      <td>3.112700e+04</td>\n",
       "      <td>31128.00</td>\n",
       "      <td>31129.00</td>\n",
       "      <td>31130.0</td>\n",
       "      <td>31131.0</td>\n",
       "    </tr>\n",
       "    <tr>\n",
       "      <th>RIAGENDR</th>\n",
       "      <td>1.000000e+00</td>\n",
       "      <td>2.00</td>\n",
       "      <td>1.00</td>\n",
       "      <td>2.0</td>\n",
       "      <td>2.0</td>\n",
       "    </tr>\n",
       "    <tr>\n",
       "      <th>RIDAGEYR</th>\n",
       "      <td>5.397605e-79</td>\n",
       "      <td>11.00</td>\n",
       "      <td>15.00</td>\n",
       "      <td>85.0</td>\n",
       "      <td>44.0</td>\n",
       "    </tr>\n",
       "    <tr>\n",
       "      <th>RIDRETH1</th>\n",
       "      <td>3.000000e+00</td>\n",
       "      <td>4.00</td>\n",
       "      <td>4.00</td>\n",
       "      <td>3.0</td>\n",
       "      <td>4.0</td>\n",
       "    </tr>\n",
       "    <tr>\n",
       "      <th>INDFMIN2</th>\n",
       "      <td>4.000000e+00</td>\n",
       "      <td>5.00</td>\n",
       "      <td>10.00</td>\n",
       "      <td>4.0</td>\n",
       "      <td>11.0</td>\n",
       "    </tr>\n",
       "    <tr>\n",
       "      <th>BPXPULS</th>\n",
       "      <td>1.000000e+00</td>\n",
       "      <td>1.00</td>\n",
       "      <td>1.00</td>\n",
       "      <td>1.0</td>\n",
       "      <td>1.0</td>\n",
       "    </tr>\n",
       "    <tr>\n",
       "      <th>BPXSY1</th>\n",
       "      <td>NaN</td>\n",
       "      <td>100.00</td>\n",
       "      <td>104.00</td>\n",
       "      <td>NaN</td>\n",
       "      <td>144.0</td>\n",
       "    </tr>\n",
       "    <tr>\n",
       "      <th>BPXDI1</th>\n",
       "      <td>NaN</td>\n",
       "      <td>62.00</td>\n",
       "      <td>76.00</td>\n",
       "      <td>NaN</td>\n",
       "      <td>74.0</td>\n",
       "    </tr>\n",
       "    <tr>\n",
       "      <th>BMXBMI</th>\n",
       "      <td>NaN</td>\n",
       "      <td>17.45</td>\n",
       "      <td>26.53</td>\n",
       "      <td>NaN</td>\n",
       "      <td>30.9</td>\n",
       "    </tr>\n",
       "    <tr>\n",
       "      <th>BMXWAIST</th>\n",
       "      <td>NaN</td>\n",
       "      <td>62.80</td>\n",
       "      <td>97.80</td>\n",
       "      <td>NaN</td>\n",
       "      <td>96.0</td>\n",
       "    </tr>\n",
       "    <tr>\n",
       "      <th>LBDHDD</th>\n",
       "      <td>NaN</td>\n",
       "      <td>55.00</td>\n",
       "      <td>46.00</td>\n",
       "      <td>NaN</td>\n",
       "      <td>39.0</td>\n",
       "    </tr>\n",
       "    <tr>\n",
       "      <th>LBXTR</th>\n",
       "      <td>NaN</td>\n",
       "      <td>NaN</td>\n",
       "      <td>NaN</td>\n",
       "      <td>NaN</td>\n",
       "      <td>86.0</td>\n",
       "    </tr>\n",
       "    <tr>\n",
       "      <th>LBDLDL</th>\n",
       "      <td>NaN</td>\n",
       "      <td>NaN</td>\n",
       "      <td>NaN</td>\n",
       "      <td>NaN</td>\n",
       "      <td>49.0</td>\n",
       "    </tr>\n",
       "    <tr>\n",
       "      <th>LBXTC</th>\n",
       "      <td>NaN</td>\n",
       "      <td>129.00</td>\n",
       "      <td>170.00</td>\n",
       "      <td>NaN</td>\n",
       "      <td>105.0</td>\n",
       "    </tr>\n",
       "    <tr>\n",
       "      <th>DIQ010</th>\n",
       "      <td>NaN</td>\n",
       "      <td>2.00</td>\n",
       "      <td>2.00</td>\n",
       "      <td>2.0</td>\n",
       "      <td>2.0</td>\n",
       "    </tr>\n",
       "    <tr>\n",
       "      <th>KIQ022</th>\n",
       "      <td>NaN</td>\n",
       "      <td>NaN</td>\n",
       "      <td>NaN</td>\n",
       "      <td>2.0</td>\n",
       "      <td>2.0</td>\n",
       "    </tr>\n",
       "    <tr>\n",
       "      <th>MCQ160B</th>\n",
       "      <td>NaN</td>\n",
       "      <td>NaN</td>\n",
       "      <td>NaN</td>\n",
       "      <td>2.0</td>\n",
       "      <td>1.0</td>\n",
       "    </tr>\n",
       "    <tr>\n",
       "      <th>MCQ160C</th>\n",
       "      <td>NaN</td>\n",
       "      <td>NaN</td>\n",
       "      <td>NaN</td>\n",
       "      <td>2.0</td>\n",
       "      <td>2.0</td>\n",
       "    </tr>\n",
       "    <tr>\n",
       "      <th>MCQ160D</th>\n",
       "      <td>NaN</td>\n",
       "      <td>NaN</td>\n",
       "      <td>NaN</td>\n",
       "      <td>2.0</td>\n",
       "      <td>2.0</td>\n",
       "    </tr>\n",
       "    <tr>\n",
       "      <th>MCQ160E</th>\n",
       "      <td>NaN</td>\n",
       "      <td>NaN</td>\n",
       "      <td>NaN</td>\n",
       "      <td>2.0</td>\n",
       "      <td>2.0</td>\n",
       "    </tr>\n",
       "    <tr>\n",
       "      <th>MCQ160F</th>\n",
       "      <td>NaN</td>\n",
       "      <td>NaN</td>\n",
       "      <td>NaN</td>\n",
       "      <td>2.0</td>\n",
       "      <td>2.0</td>\n",
       "    </tr>\n",
       "    <tr>\n",
       "      <th>MCQ300A</th>\n",
       "      <td>NaN</td>\n",
       "      <td>NaN</td>\n",
       "      <td>NaN</td>\n",
       "      <td>2.0</td>\n",
       "      <td>1.0</td>\n",
       "    </tr>\n",
       "    <tr>\n",
       "      <th>SMQ020</th>\n",
       "      <td>NaN</td>\n",
       "      <td>NaN</td>\n",
       "      <td>NaN</td>\n",
       "      <td>2.0</td>\n",
       "      <td>2.0</td>\n",
       "    </tr>\n",
       "  </tbody>\n",
       "</table>\n",
       "</div>"
      ],
      "text/plain": [
       "                     0         1         2        3        4\n",
       "SEQN      3.112700e+04  31128.00  31129.00  31130.0  31131.0\n",
       "RIAGENDR  1.000000e+00      2.00      1.00      2.0      2.0\n",
       "RIDAGEYR  5.397605e-79     11.00     15.00     85.0     44.0\n",
       "RIDRETH1  3.000000e+00      4.00      4.00      3.0      4.0\n",
       "INDFMIN2  4.000000e+00      5.00     10.00      4.0     11.0\n",
       "BPXPULS   1.000000e+00      1.00      1.00      1.0      1.0\n",
       "BPXSY1             NaN    100.00    104.00      NaN    144.0\n",
       "BPXDI1             NaN     62.00     76.00      NaN     74.0\n",
       "BMXBMI             NaN     17.45     26.53      NaN     30.9\n",
       "BMXWAIST           NaN     62.80     97.80      NaN     96.0\n",
       "LBDHDD             NaN     55.00     46.00      NaN     39.0\n",
       "LBXTR              NaN       NaN       NaN      NaN     86.0\n",
       "LBDLDL             NaN       NaN       NaN      NaN     49.0\n",
       "LBXTC              NaN    129.00    170.00      NaN    105.0\n",
       "DIQ010             NaN      2.00      2.00      2.0      2.0\n",
       "KIQ022             NaN       NaN       NaN      2.0      2.0\n",
       "MCQ160B            NaN       NaN       NaN      2.0      1.0\n",
       "MCQ160C            NaN       NaN       NaN      2.0      2.0\n",
       "MCQ160D            NaN       NaN       NaN      2.0      2.0\n",
       "MCQ160E            NaN       NaN       NaN      2.0      2.0\n",
       "MCQ160F            NaN       NaN       NaN      2.0      2.0\n",
       "MCQ300A            NaN       NaN       NaN      2.0      1.0\n",
       "SMQ020             NaN       NaN       NaN      2.0      2.0"
      ]
     },
     "execution_count": 119,
     "metadata": {},
     "output_type": "execute_result"
    }
   ],
   "source": [
    "#examining the first  five rows of the dataset\n",
    "cvd_df.head().T"
   ]
  },
  {
   "cell_type": "code",
   "execution_count": 120,
   "metadata": {},
   "outputs": [],
   "source": [
    "#rename the columns to make the headers to something more meaningful\n",
    "cvd_df.rename(columns={'SEQN': 'seqn', 'RIAGENDR': 'gender', 'RIDAGEYR':'age',\n",
    "                   'RIDRETH1':'ethnicity', 'INDFMIN2':'income', 'BPXPULS':'pulse_regular',\n",
    "                   'BPXSY1':'sysbp', 'BPXDI1':'diabp', 'BMXBMI':'bmi',\n",
    "                   'BMXWAIST':'waistcircum', 'LBDHDD':'hdl', 'LBXTR':'trigly',\n",
    "                   'LBDLDL':'ldl', 'LBXTC':'totchol', 'DIQ010':'diabetes',\n",
    "                   'KIQ022':'kidney_fail', 'MCQ160B':'congestive_fail', 'MCQ160C':'coronary_disease',\n",
    "                   'MCQ160D':'angina', 'MCQ160E':'heart_attack',\n",
    "                   'MCQ160F':'stroke', 'MCQ300A':'fam_history', 'SMQ020':'smoking'}, inplace=True)\n",
    "cvd_df.set_index('seqn', inplace=True)"
   ]
  },
  {
   "cell_type": "code",
   "execution_count": 121,
   "metadata": {
    "scrolled": true
   },
   "outputs": [
    {
     "data": {
      "text/html": [
       "<div>\n",
       "<style scoped>\n",
       "    .dataframe tbody tr th:only-of-type {\n",
       "        vertical-align: middle;\n",
       "    }\n",
       "\n",
       "    .dataframe tbody tr th {\n",
       "        vertical-align: top;\n",
       "    }\n",
       "\n",
       "    .dataframe thead th {\n",
       "        text-align: right;\n",
       "    }\n",
       "</style>\n",
       "<table border=\"1\" class=\"dataframe\">\n",
       "  <thead>\n",
       "    <tr style=\"text-align: right;\">\n",
       "      <th>seqn</th>\n",
       "      <th>31127.0</th>\n",
       "      <th>31128.0</th>\n",
       "      <th>31129.0</th>\n",
       "      <th>31130.0</th>\n",
       "      <th>31131.0</th>\n",
       "    </tr>\n",
       "  </thead>\n",
       "  <tbody>\n",
       "    <tr>\n",
       "      <th>gender</th>\n",
       "      <td>1.000000e+00</td>\n",
       "      <td>2.00</td>\n",
       "      <td>1.00</td>\n",
       "      <td>2.0</td>\n",
       "      <td>2.0</td>\n",
       "    </tr>\n",
       "    <tr>\n",
       "      <th>age</th>\n",
       "      <td>5.397605e-79</td>\n",
       "      <td>11.00</td>\n",
       "      <td>15.00</td>\n",
       "      <td>85.0</td>\n",
       "      <td>44.0</td>\n",
       "    </tr>\n",
       "    <tr>\n",
       "      <th>ethnicity</th>\n",
       "      <td>3.000000e+00</td>\n",
       "      <td>4.00</td>\n",
       "      <td>4.00</td>\n",
       "      <td>3.0</td>\n",
       "      <td>4.0</td>\n",
       "    </tr>\n",
       "    <tr>\n",
       "      <th>income</th>\n",
       "      <td>4.000000e+00</td>\n",
       "      <td>5.00</td>\n",
       "      <td>10.00</td>\n",
       "      <td>4.0</td>\n",
       "      <td>11.0</td>\n",
       "    </tr>\n",
       "    <tr>\n",
       "      <th>pulse_regular</th>\n",
       "      <td>1.000000e+00</td>\n",
       "      <td>1.00</td>\n",
       "      <td>1.00</td>\n",
       "      <td>1.0</td>\n",
       "      <td>1.0</td>\n",
       "    </tr>\n",
       "    <tr>\n",
       "      <th>sysbp</th>\n",
       "      <td>NaN</td>\n",
       "      <td>100.00</td>\n",
       "      <td>104.00</td>\n",
       "      <td>NaN</td>\n",
       "      <td>144.0</td>\n",
       "    </tr>\n",
       "    <tr>\n",
       "      <th>diabp</th>\n",
       "      <td>NaN</td>\n",
       "      <td>62.00</td>\n",
       "      <td>76.00</td>\n",
       "      <td>NaN</td>\n",
       "      <td>74.0</td>\n",
       "    </tr>\n",
       "    <tr>\n",
       "      <th>bmi</th>\n",
       "      <td>NaN</td>\n",
       "      <td>17.45</td>\n",
       "      <td>26.53</td>\n",
       "      <td>NaN</td>\n",
       "      <td>30.9</td>\n",
       "    </tr>\n",
       "    <tr>\n",
       "      <th>waistcircum</th>\n",
       "      <td>NaN</td>\n",
       "      <td>62.80</td>\n",
       "      <td>97.80</td>\n",
       "      <td>NaN</td>\n",
       "      <td>96.0</td>\n",
       "    </tr>\n",
       "    <tr>\n",
       "      <th>hdl</th>\n",
       "      <td>NaN</td>\n",
       "      <td>55.00</td>\n",
       "      <td>46.00</td>\n",
       "      <td>NaN</td>\n",
       "      <td>39.0</td>\n",
       "    </tr>\n",
       "    <tr>\n",
       "      <th>trigly</th>\n",
       "      <td>NaN</td>\n",
       "      <td>NaN</td>\n",
       "      <td>NaN</td>\n",
       "      <td>NaN</td>\n",
       "      <td>86.0</td>\n",
       "    </tr>\n",
       "    <tr>\n",
       "      <th>ldl</th>\n",
       "      <td>NaN</td>\n",
       "      <td>NaN</td>\n",
       "      <td>NaN</td>\n",
       "      <td>NaN</td>\n",
       "      <td>49.0</td>\n",
       "    </tr>\n",
       "    <tr>\n",
       "      <th>totchol</th>\n",
       "      <td>NaN</td>\n",
       "      <td>129.00</td>\n",
       "      <td>170.00</td>\n",
       "      <td>NaN</td>\n",
       "      <td>105.0</td>\n",
       "    </tr>\n",
       "    <tr>\n",
       "      <th>diabetes</th>\n",
       "      <td>NaN</td>\n",
       "      <td>2.00</td>\n",
       "      <td>2.00</td>\n",
       "      <td>2.0</td>\n",
       "      <td>2.0</td>\n",
       "    </tr>\n",
       "    <tr>\n",
       "      <th>kidney_fail</th>\n",
       "      <td>NaN</td>\n",
       "      <td>NaN</td>\n",
       "      <td>NaN</td>\n",
       "      <td>2.0</td>\n",
       "      <td>2.0</td>\n",
       "    </tr>\n",
       "    <tr>\n",
       "      <th>congestive_fail</th>\n",
       "      <td>NaN</td>\n",
       "      <td>NaN</td>\n",
       "      <td>NaN</td>\n",
       "      <td>2.0</td>\n",
       "      <td>1.0</td>\n",
       "    </tr>\n",
       "    <tr>\n",
       "      <th>coronary_disease</th>\n",
       "      <td>NaN</td>\n",
       "      <td>NaN</td>\n",
       "      <td>NaN</td>\n",
       "      <td>2.0</td>\n",
       "      <td>2.0</td>\n",
       "    </tr>\n",
       "    <tr>\n",
       "      <th>angina</th>\n",
       "      <td>NaN</td>\n",
       "      <td>NaN</td>\n",
       "      <td>NaN</td>\n",
       "      <td>2.0</td>\n",
       "      <td>2.0</td>\n",
       "    </tr>\n",
       "    <tr>\n",
       "      <th>heart_attack</th>\n",
       "      <td>NaN</td>\n",
       "      <td>NaN</td>\n",
       "      <td>NaN</td>\n",
       "      <td>2.0</td>\n",
       "      <td>2.0</td>\n",
       "    </tr>\n",
       "    <tr>\n",
       "      <th>stroke</th>\n",
       "      <td>NaN</td>\n",
       "      <td>NaN</td>\n",
       "      <td>NaN</td>\n",
       "      <td>2.0</td>\n",
       "      <td>2.0</td>\n",
       "    </tr>\n",
       "    <tr>\n",
       "      <th>fam_history</th>\n",
       "      <td>NaN</td>\n",
       "      <td>NaN</td>\n",
       "      <td>NaN</td>\n",
       "      <td>2.0</td>\n",
       "      <td>1.0</td>\n",
       "    </tr>\n",
       "    <tr>\n",
       "      <th>smoking</th>\n",
       "      <td>NaN</td>\n",
       "      <td>NaN</td>\n",
       "      <td>NaN</td>\n",
       "      <td>2.0</td>\n",
       "      <td>2.0</td>\n",
       "    </tr>\n",
       "  </tbody>\n",
       "</table>\n",
       "</div>"
      ],
      "text/plain": [
       "seqn                   31127.0  31128.0  31129.0  31130.0  31131.0\n",
       "gender            1.000000e+00     2.00     1.00      2.0      2.0\n",
       "age               5.397605e-79    11.00    15.00     85.0     44.0\n",
       "ethnicity         3.000000e+00     4.00     4.00      3.0      4.0\n",
       "income            4.000000e+00     5.00    10.00      4.0     11.0\n",
       "pulse_regular     1.000000e+00     1.00     1.00      1.0      1.0\n",
       "sysbp                      NaN   100.00   104.00      NaN    144.0\n",
       "diabp                      NaN    62.00    76.00      NaN     74.0\n",
       "bmi                        NaN    17.45    26.53      NaN     30.9\n",
       "waistcircum                NaN    62.80    97.80      NaN     96.0\n",
       "hdl                        NaN    55.00    46.00      NaN     39.0\n",
       "trigly                     NaN      NaN      NaN      NaN     86.0\n",
       "ldl                        NaN      NaN      NaN      NaN     49.0\n",
       "totchol                    NaN   129.00   170.00      NaN    105.0\n",
       "diabetes                   NaN     2.00     2.00      2.0      2.0\n",
       "kidney_fail                NaN      NaN      NaN      2.0      2.0\n",
       "congestive_fail            NaN      NaN      NaN      2.0      1.0\n",
       "coronary_disease           NaN      NaN      NaN      2.0      2.0\n",
       "angina                     NaN      NaN      NaN      2.0      2.0\n",
       "heart_attack               NaN      NaN      NaN      2.0      2.0\n",
       "stroke                     NaN      NaN      NaN      2.0      2.0\n",
       "fam_history                NaN      NaN      NaN      2.0      1.0\n",
       "smoking                    NaN      NaN      NaN      2.0      2.0"
      ]
     },
     "execution_count": 121,
     "metadata": {},
     "output_type": "execute_result"
    }
   ],
   "source": [
    "cvd_df.head().T"
   ]
  },
  {
   "cell_type": "markdown",
   "metadata": {},
   "source": [
    "There are quite a lot of NaN values in the dataset. Lets' look into it."
   ]
  },
  {
   "cell_type": "code",
   "execution_count": 122,
   "metadata": {},
   "outputs": [
    {
     "data": {
      "text/plain": [
       "(60936, 22)"
      ]
     },
     "execution_count": 122,
     "metadata": {},
     "output_type": "execute_result"
    }
   ],
   "source": [
    "#checking the number of rows and columns\n",
    "cvd_df.shape"
   ]
  },
  {
   "cell_type": "code",
   "execution_count": 123,
   "metadata": {},
   "outputs": [
    {
     "name": "stdout",
     "output_type": "stream",
     "text": [
      "<class 'pandas.core.frame.DataFrame'>\n",
      "Float64Index: 60936 entries, 31127.0 to 93702.0\n",
      "Data columns (total 22 columns):\n",
      " #   Column            Non-Null Count  Dtype  \n",
      "---  ------            --------------  -----  \n",
      " 0   gender            60936 non-null  float64\n",
      " 1   age               60936 non-null  float64\n",
      " 2   ethnicity         60936 non-null  float64\n",
      " 3   income            60157 non-null  float64\n",
      " 4   pulse_regular     56567 non-null  float64\n",
      " 5   sysbp             42417 non-null  float64\n",
      " 6   diabp             42417 non-null  float64\n",
      " 7   bmi               53635 non-null  float64\n",
      " 8   waistcircum       51361 non-null  float64\n",
      " 9   hdl               44462 non-null  float64\n",
      " 10  trigly            18404 non-null  float64\n",
      " 11  ldl               18115 non-null  float64\n",
      " 12  totchol           44461 non-null  float64\n",
      " 13  diabetes          58304 non-null  float64\n",
      " 14  kidney_fail       34179 non-null  float64\n",
      " 15  congestive_fail   34179 non-null  float64\n",
      " 16  coronary_disease  34179 non-null  float64\n",
      " 17  angina            34179 non-null  float64\n",
      " 18  heart_attack      34179 non-null  float64\n",
      " 19  stroke            34179 non-null  float64\n",
      " 20  fam_history       34179 non-null  float64\n",
      " 21  smoking           34796 non-null  float64\n",
      "dtypes: float64(22)\n",
      "memory usage: 10.7 MB\n"
     ]
    }
   ],
   "source": [
    "#get some info on the raw data\n",
    "cvd_df.info()"
   ]
  },
  {
   "cell_type": "code",
   "execution_count": 124,
   "metadata": {},
   "outputs": [
    {
     "name": "stdout",
     "output_type": "stream",
     "text": [
      "<class 'pandas.core.frame.DataFrame'>\n",
      "Float64Index: 34180 entries, 31130.0 to 93702.0\n",
      "Data columns (total 22 columns):\n",
      " #   Column            Non-Null Count  Dtype  \n",
      "---  ------            --------------  -----  \n",
      " 0   gender            34180 non-null  float64\n",
      " 1   age               34180 non-null  float64\n",
      " 2   ethnicity         34180 non-null  float64\n",
      " 3   income            33726 non-null  float64\n",
      " 4   pulse_regular     31636 non-null  float64\n",
      " 5   sysbp             30128 non-null  float64\n",
      " 6   diabp             30128 non-null  float64\n",
      " 7   bmi               32444 non-null  float64\n",
      " 8   waistcircum       30952 non-null  float64\n",
      " 9   hdl               30921 non-null  float64\n",
      " 10  trigly            14769 non-null  float64\n",
      " 11  ldl               14489 non-null  float64\n",
      " 12  totchol           30921 non-null  float64\n",
      " 13  diabetes          34180 non-null  float64\n",
      " 14  kidney_fail       34179 non-null  float64\n",
      " 15  congestive_fail   34179 non-null  float64\n",
      " 16  coronary_disease  34179 non-null  float64\n",
      " 17  angina            34179 non-null  float64\n",
      " 18  heart_attack      34179 non-null  float64\n",
      " 19  stroke            34179 non-null  float64\n",
      " 20  fam_history       34179 non-null  float64\n",
      " 21  smoking           34179 non-null  float64\n",
      "dtypes: float64(22)\n",
      "memory usage: 6.0 MB\n"
     ]
    }
   ],
   "source": [
    "#filtering the data for individuals over 20 years in age\n",
    "cvd_df = cvd_df[cvd_df.age >=20]\n",
    "cvd_df.info()"
   ]
  },
  {
   "cell_type": "code",
   "execution_count": 125,
   "metadata": {},
   "outputs": [
    {
     "data": {
      "text/plain": [
       "(34180, 22)"
      ]
     },
     "execution_count": 125,
     "metadata": {},
     "output_type": "execute_result"
    }
   ],
   "source": [
    "cvd_df.shape"
   ]
  },
  {
   "cell_type": "markdown",
   "metadata": {},
   "source": [
    "Filtering out the age > 20 reduced the number of rows by over 40%"
   ]
  },
  {
   "cell_type": "code",
   "execution_count": 126,
   "metadata": {},
   "outputs": [
    {
     "data": {
      "text/html": [
       "<div>\n",
       "<style scoped>\n",
       "    .dataframe tbody tr th:only-of-type {\n",
       "        vertical-align: middle;\n",
       "    }\n",
       "\n",
       "    .dataframe tbody tr th {\n",
       "        vertical-align: top;\n",
       "    }\n",
       "\n",
       "    .dataframe thead th {\n",
       "        text-align: right;\n",
       "    }\n",
       "</style>\n",
       "<table border=\"1\" class=\"dataframe\">\n",
       "  <thead>\n",
       "    <tr style=\"text-align: right;\">\n",
       "      <th></th>\n",
       "      <th>count</th>\n",
       "      <th>percentage</th>\n",
       "    </tr>\n",
       "  </thead>\n",
       "  <tbody>\n",
       "    <tr>\n",
       "      <th>ldl</th>\n",
       "      <td>19691</td>\n",
       "      <td>57.609713</td>\n",
       "    </tr>\n",
       "    <tr>\n",
       "      <th>trigly</th>\n",
       "      <td>19411</td>\n",
       "      <td>56.790521</td>\n",
       "    </tr>\n",
       "    <tr>\n",
       "      <th>sysbp</th>\n",
       "      <td>4052</td>\n",
       "      <td>11.854886</td>\n",
       "    </tr>\n",
       "    <tr>\n",
       "      <th>diabp</th>\n",
       "      <td>4052</td>\n",
       "      <td>11.854886</td>\n",
       "    </tr>\n",
       "    <tr>\n",
       "      <th>hdl</th>\n",
       "      <td>3259</td>\n",
       "      <td>9.534816</td>\n",
       "    </tr>\n",
       "    <tr>\n",
       "      <th>totchol</th>\n",
       "      <td>3259</td>\n",
       "      <td>9.534816</td>\n",
       "    </tr>\n",
       "    <tr>\n",
       "      <th>waistcircum</th>\n",
       "      <td>3228</td>\n",
       "      <td>9.444119</td>\n",
       "    </tr>\n",
       "    <tr>\n",
       "      <th>pulse_regular</th>\n",
       "      <td>2544</td>\n",
       "      <td>7.442949</td>\n",
       "    </tr>\n",
       "    <tr>\n",
       "      <th>bmi</th>\n",
       "      <td>1736</td>\n",
       "      <td>5.078994</td>\n",
       "    </tr>\n",
       "    <tr>\n",
       "      <th>income</th>\n",
       "      <td>454</td>\n",
       "      <td>1.328262</td>\n",
       "    </tr>\n",
       "    <tr>\n",
       "      <th>coronary_disease</th>\n",
       "      <td>1</td>\n",
       "      <td>0.002926</td>\n",
       "    </tr>\n",
       "    <tr>\n",
       "      <th>fam_history</th>\n",
       "      <td>1</td>\n",
       "      <td>0.002926</td>\n",
       "    </tr>\n",
       "    <tr>\n",
       "      <th>stroke</th>\n",
       "      <td>1</td>\n",
       "      <td>0.002926</td>\n",
       "    </tr>\n",
       "    <tr>\n",
       "      <th>heart_attack</th>\n",
       "      <td>1</td>\n",
       "      <td>0.002926</td>\n",
       "    </tr>\n",
       "    <tr>\n",
       "      <th>angina</th>\n",
       "      <td>1</td>\n",
       "      <td>0.002926</td>\n",
       "    </tr>\n",
       "    <tr>\n",
       "      <th>smoking</th>\n",
       "      <td>1</td>\n",
       "      <td>0.002926</td>\n",
       "    </tr>\n",
       "    <tr>\n",
       "      <th>congestive_fail</th>\n",
       "      <td>1</td>\n",
       "      <td>0.002926</td>\n",
       "    </tr>\n",
       "    <tr>\n",
       "      <th>kidney_fail</th>\n",
       "      <td>1</td>\n",
       "      <td>0.002926</td>\n",
       "    </tr>\n",
       "    <tr>\n",
       "      <th>diabetes</th>\n",
       "      <td>0</td>\n",
       "      <td>0.000000</td>\n",
       "    </tr>\n",
       "    <tr>\n",
       "      <th>age</th>\n",
       "      <td>0</td>\n",
       "      <td>0.000000</td>\n",
       "    </tr>\n",
       "    <tr>\n",
       "      <th>ethnicity</th>\n",
       "      <td>0</td>\n",
       "      <td>0.000000</td>\n",
       "    </tr>\n",
       "    <tr>\n",
       "      <th>gender</th>\n",
       "      <td>0</td>\n",
       "      <td>0.000000</td>\n",
       "    </tr>\n",
       "  </tbody>\n",
       "</table>\n",
       "</div>"
      ],
      "text/plain": [
       "                  count  percentage\n",
       "ldl               19691   57.609713\n",
       "trigly            19411   56.790521\n",
       "sysbp              4052   11.854886\n",
       "diabp              4052   11.854886\n",
       "hdl                3259    9.534816\n",
       "totchol            3259    9.534816\n",
       "waistcircum        3228    9.444119\n",
       "pulse_regular      2544    7.442949\n",
       "bmi                1736    5.078994\n",
       "income              454    1.328262\n",
       "coronary_disease      1    0.002926\n",
       "fam_history           1    0.002926\n",
       "stroke                1    0.002926\n",
       "heart_attack          1    0.002926\n",
       "angina                1    0.002926\n",
       "smoking               1    0.002926\n",
       "congestive_fail       1    0.002926\n",
       "kidney_fail           1    0.002926\n",
       "diabetes              0    0.000000\n",
       "age                   0    0.000000\n",
       "ethnicity             0    0.000000\n",
       "gender                0    0.000000"
      ]
     },
     "execution_count": 126,
     "metadata": {},
     "output_type": "execute_result"
    }
   ],
   "source": [
    "#count and find the percentage of null values and concatenat the results\n",
    "missing = pd.concat([cvd_df.isnull().sum(), 100*cvd_df.isnull().mean()], axis=1)\n",
    "missing.columns = ['count', 'percentage']\n",
    "missing.sort_values(by='count', ascending=False)"
   ]
  },
  {
   "cell_type": "markdown",
   "metadata": {},
   "source": [
    "ldl and trigly are missing most number of values, over 50% of data. The other columns have <=12% missing data."
   ]
  },
  {
   "cell_type": "code",
   "execution_count": 127,
   "metadata": {
    "scrolled": false
   },
   "outputs": [
    {
     "data": {
      "text/plain": [
       "<matplotlib.axes._subplots.AxesSubplot at 0x7f93281cf4f0>"
      ]
     },
     "execution_count": 127,
     "metadata": {},
     "output_type": "execute_result"
    },
    {
     "data": {
      "image/png": "[encoded data removed]",
      "text/plain": [
       "<Figure size 1440x432 with 2 Axes>"
      ]
     },
     "metadata": {},
     "output_type": "display_data"
    }
   ],
   "source": [
    "#visualize missing values\n",
    "import missingno as mno\n",
    "mno.matrix(cvd_df, figsize = (20, 6))"
   ]
  },
  {
   "cell_type": "markdown",
   "metadata": {},
   "source": [
    "The missing number matrix doesn't seem to show any trend and looks like the numbers are missing at random."
   ]
  },
  {
   "cell_type": "code",
   "execution_count": 128,
   "metadata": {},
   "outputs": [],
   "source": [
    "#filering out the ldl null values from the dataset\n",
    "cvd_df = cvd_df[cvd_df['ldl'].notna()].reset_index(drop=True)"
   ]
  },
  {
   "cell_type": "code",
   "execution_count": 129,
   "metadata": {
    "scrolled": false
   },
   "outputs": [
    {
     "data": {
      "text/html": [
       "<div>\n",
       "<style scoped>\n",
       "    .dataframe tbody tr th:only-of-type {\n",
       "        vertical-align: middle;\n",
       "    }\n",
       "\n",
       "    .dataframe tbody tr th {\n",
       "        vertical-align: top;\n",
       "    }\n",
       "\n",
       "    .dataframe thead th {\n",
       "        text-align: right;\n",
       "    }\n",
       "</style>\n",
       "<table border=\"1\" class=\"dataframe\">\n",
       "  <thead>\n",
       "    <tr style=\"text-align: right;\">\n",
       "      <th></th>\n",
       "      <th>count</th>\n",
       "      <th>percentage</th>\n",
       "    </tr>\n",
       "  </thead>\n",
       "  <tbody>\n",
       "    <tr>\n",
       "      <th>sysbp</th>\n",
       "      <td>1152</td>\n",
       "      <td>7.950859</td>\n",
       "    </tr>\n",
       "    <tr>\n",
       "      <th>diabp</th>\n",
       "      <td>1152</td>\n",
       "      <td>7.950859</td>\n",
       "    </tr>\n",
       "    <tr>\n",
       "      <th>waistcircum</th>\n",
       "      <td>595</td>\n",
       "      <td>4.106564</td>\n",
       "    </tr>\n",
       "    <tr>\n",
       "      <th>pulse_regular</th>\n",
       "      <td>489</td>\n",
       "      <td>3.374974</td>\n",
       "    </tr>\n",
       "    <tr>\n",
       "      <th>bmi</th>\n",
       "      <td>177</td>\n",
       "      <td>1.221616</td>\n",
       "    </tr>\n",
       "    <tr>\n",
       "      <th>income</th>\n",
       "      <td>156</td>\n",
       "      <td>1.076679</td>\n",
       "    </tr>\n",
       "    <tr>\n",
       "      <th>gender</th>\n",
       "      <td>0</td>\n",
       "      <td>0.000000</td>\n",
       "    </tr>\n",
       "    <tr>\n",
       "      <th>kidney_fail</th>\n",
       "      <td>0</td>\n",
       "      <td>0.000000</td>\n",
       "    </tr>\n",
       "    <tr>\n",
       "      <th>fam_history</th>\n",
       "      <td>0</td>\n",
       "      <td>0.000000</td>\n",
       "    </tr>\n",
       "    <tr>\n",
       "      <th>stroke</th>\n",
       "      <td>0</td>\n",
       "      <td>0.000000</td>\n",
       "    </tr>\n",
       "    <tr>\n",
       "      <th>heart_attack</th>\n",
       "      <td>0</td>\n",
       "      <td>0.000000</td>\n",
       "    </tr>\n",
       "    <tr>\n",
       "      <th>angina</th>\n",
       "      <td>0</td>\n",
       "      <td>0.000000</td>\n",
       "    </tr>\n",
       "    <tr>\n",
       "      <th>coronary_disease</th>\n",
       "      <td>0</td>\n",
       "      <td>0.000000</td>\n",
       "    </tr>\n",
       "    <tr>\n",
       "      <th>congestive_fail</th>\n",
       "      <td>0</td>\n",
       "      <td>0.000000</td>\n",
       "    </tr>\n",
       "    <tr>\n",
       "      <th>ldl</th>\n",
       "      <td>0</td>\n",
       "      <td>0.000000</td>\n",
       "    </tr>\n",
       "    <tr>\n",
       "      <th>diabetes</th>\n",
       "      <td>0</td>\n",
       "      <td>0.000000</td>\n",
       "    </tr>\n",
       "    <tr>\n",
       "      <th>totchol</th>\n",
       "      <td>0</td>\n",
       "      <td>0.000000</td>\n",
       "    </tr>\n",
       "    <tr>\n",
       "      <th>age</th>\n",
       "      <td>0</td>\n",
       "      <td>0.000000</td>\n",
       "    </tr>\n",
       "    <tr>\n",
       "      <th>trigly</th>\n",
       "      <td>0</td>\n",
       "      <td>0.000000</td>\n",
       "    </tr>\n",
       "    <tr>\n",
       "      <th>hdl</th>\n",
       "      <td>0</td>\n",
       "      <td>0.000000</td>\n",
       "    </tr>\n",
       "    <tr>\n",
       "      <th>ethnicity</th>\n",
       "      <td>0</td>\n",
       "      <td>0.000000</td>\n",
       "    </tr>\n",
       "    <tr>\n",
       "      <th>smoking</th>\n",
       "      <td>0</td>\n",
       "      <td>0.000000</td>\n",
       "    </tr>\n",
       "  </tbody>\n",
       "</table>\n",
       "</div>"
      ],
      "text/plain": [
       "                  count  percentage\n",
       "sysbp              1152    7.950859\n",
       "diabp              1152    7.950859\n",
       "waistcircum         595    4.106564\n",
       "pulse_regular       489    3.374974\n",
       "bmi                 177    1.221616\n",
       "income              156    1.076679\n",
       "gender                0    0.000000\n",
       "kidney_fail           0    0.000000\n",
       "fam_history           0    0.000000\n",
       "stroke                0    0.000000\n",
       "heart_attack          0    0.000000\n",
       "angina                0    0.000000\n",
       "coronary_disease      0    0.000000\n",
       "congestive_fail       0    0.000000\n",
       "ldl                   0    0.000000\n",
       "diabetes              0    0.000000\n",
       "totchol               0    0.000000\n",
       "age                   0    0.000000\n",
       "trigly                0    0.000000\n",
       "hdl                   0    0.000000\n",
       "ethnicity             0    0.000000\n",
       "smoking               0    0.000000"
      ]
     },
     "execution_count": 129,
     "metadata": {},
     "output_type": "execute_result"
    }
   ],
   "source": [
    "#look at the count and percentage of missing values again\n",
    "missing = pd.concat([cvd_df.isnull().sum(), 100*cvd_df.isnull().mean()], axis=1)\n",
    "missing.columns = ['count', 'percentage']\n",
    "missing.sort_values(by='count', ascending=False)"
   ]
  },
  {
   "cell_type": "markdown",
   "metadata": {},
   "source": [
    "Taking out the missing ldl values has taken care of missing trigly values and the rest of the missing columns as well."
   ]
  },
  {
   "cell_type": "code",
   "execution_count": 130,
   "metadata": {},
   "outputs": [
    {
     "data": {
      "text/plain": [
       "(14489, 22)"
      ]
     },
     "execution_count": 130,
     "metadata": {},
     "output_type": "execute_result"
    }
   ],
   "source": [
    "cvd_df.shape"
   ]
  },
  {
   "cell_type": "markdown",
   "metadata": {},
   "source": [
    "This has resulted in reduction of our dataset by over 50%. Let's impute the rest of the missing sysbp, diabp, bmi and waistcircum columns by the median. Impute pulse_regular by mode, and forward fill the income column."
   ]
  },
  {
   "cell_type": "code",
   "execution_count": 131,
   "metadata": {},
   "outputs": [],
   "source": [
    "cvd_df[['sysbp', 'diabp', 'bmi', 'waistcircum']] = cvd_df[['sysbp', 'diabp', 'bmi',\n",
    "                                                           'waistcircum']].fillna(cvd_df[['sysbp', 'diabp',\n",
    "                                                                                          'bmi', 'waistcircum']].median())"
   ]
  },
  {
   "cell_type": "code",
   "execution_count": 132,
   "metadata": {},
   "outputs": [],
   "source": [
    "cvd_df['pulse_regular'].fillna(cvd_df['pulse_regular'].mode()[0], inplace=True)"
   ]
  },
  {
   "cell_type": "code",
   "execution_count": 133,
   "metadata": {},
   "outputs": [],
   "source": [
    "cvd_df['income'].fillna(method='ffill', inplace=True)"
   ]
  },
  {
   "cell_type": "code",
   "execution_count": 134,
   "metadata": {},
   "outputs": [
    {
     "data": {
      "text/plain": [
       "gender              float64\n",
       "age                 float64\n",
       "ethnicity           float64\n",
       "income              float64\n",
       "pulse_regular       float64\n",
       "sysbp               float64\n",
       "diabp               float64\n",
       "bmi                 float64\n",
       "waistcircum         float64\n",
       "hdl                 float64\n",
       "trigly              float64\n",
       "ldl                 float64\n",
       "totchol             float64\n",
       "diabetes            float64\n",
       "kidney_fail         float64\n",
       "congestive_fail     float64\n",
       "coronary_disease    float64\n",
       "angina              float64\n",
       "heart_attack        float64\n",
       "stroke              float64\n",
       "fam_history         float64\n",
       "smoking             float64\n",
       "dtype: object"
      ]
     },
     "execution_count": 134,
     "metadata": {},
     "output_type": "execute_result"
    }
   ],
   "source": [
    "cvd_df.dtypes"
   ]
  },
  {
   "cell_type": "markdown",
   "metadata": {},
   "source": [
    "Most columns have data type of float. Few of the columns like SEQN and age can be converted to integers to have meaningful numbers."
   ]
  },
  {
   "cell_type": "code",
   "execution_count": 135,
   "metadata": {
    "scrolled": true
   },
   "outputs": [
    {
     "data": {
      "text/plain": [
       "Index(['gender', 'age', 'ethnicity', 'income', 'pulse_regular', 'sysbp',\n",
       "       'diabp', 'bmi', 'waistcircum', 'hdl', 'trigly', 'ldl', 'totchol',\n",
       "       'diabetes', 'kidney_fail', 'congestive_fail', 'coronary_disease',\n",
       "       'angina', 'heart_attack', 'stroke', 'fam_history', 'smoking'],\n",
       "      dtype='object')"
      ]
     },
     "execution_count": 135,
     "metadata": {},
     "output_type": "execute_result"
    }
   ],
   "source": [
    "cvd_df.columns"
   ]
  },
  {
   "cell_type": "code",
   "execution_count": 136,
   "metadata": {},
   "outputs": [],
   "source": [
    "dtype_cols = [col for col in cvd_df.columns if col not in ['bmi', 'waistcircum']]\n",
    "\n",
    "for col in dtype_cols:\n",
    "    cvd_df[col] = cvd_df[col].astype('int')"
   ]
  },
  {
   "cell_type": "code",
   "execution_count": 137,
   "metadata": {
    "scrolled": true
   },
   "outputs": [
    {
     "data": {
      "text/plain": [
       "gender                int64\n",
       "age                   int64\n",
       "ethnicity             int64\n",
       "income                int64\n",
       "pulse_regular         int64\n",
       "sysbp                 int64\n",
       "diabp                 int64\n",
       "bmi                 float64\n",
       "waistcircum         float64\n",
       "hdl                   int64\n",
       "trigly                int64\n",
       "ldl                   int64\n",
       "totchol               int64\n",
       "diabetes              int64\n",
       "kidney_fail           int64\n",
       "congestive_fail       int64\n",
       "coronary_disease      int64\n",
       "angina                int64\n",
       "heart_attack          int64\n",
       "stroke                int64\n",
       "fam_history           int64\n",
       "smoking               int64\n",
       "dtype: object"
      ]
     },
     "execution_count": 137,
     "metadata": {},
     "output_type": "execute_result"
    }
   ],
   "source": [
    "cvd_df.dtypes"
   ]
  },
  {
   "cell_type": "code",
   "execution_count": 151,
   "metadata": {},
   "outputs": [
    {
     "data": {
      "image/png": "[encoded data removed]",
      "text/plain": [
       "<Figure size 1080x720 with 25 Axes>"
      ]
     },
     "metadata": {},
     "output_type": "display_data"
    }
   ],
   "source": [
    "#let's get the histograms to get an idea of their distributions\n",
    "cvd_df.hist(figsize=(15, 10), color='rebeccapurple')\n",
    "plt.subplots_adjust(hspace=0.5)\n",
    "plt.show()"
   ]
  },
  {
   "cell_type": "code",
   "execution_count": 153,
   "metadata": {},
   "outputs": [
    {
     "data": {
      "text/plain": [
       "0    1.0\n",
       "Name: gender, dtype: float64"
      ]
     },
     "execution_count": 153,
     "metadata": {},
     "output_type": "execute_result"
    }
   ],
   "source": [
    "#replace the 1(male) from the original dataset to 0 and 2(female) to 1\n",
    "#get the relative frequencies of gender\n",
    "cvd_df['gender'].replace({1: 0, 2: 1}, inplace=True)\n",
    "cvd_df['gender'].value_counts(normalize=True)"
   ]
  },
  {
   "cell_type": "markdown",
   "metadata": {},
   "source": [
    "The males and females in the dataset are evenly distributed."
   ]
  },
  {
   "cell_type": "code",
   "execution_count": 154,
   "metadata": {},
   "outputs": [
    {
     "data": {
      "text/plain": [
       "3    0.439713\n",
       "4    0.200773\n",
       "1    0.159086\n",
       "2    0.101042\n",
       "5    0.099386\n",
       "Name: ethnicity, dtype: float64"
      ]
     },
     "execution_count": 154,
     "metadata": {},
     "output_type": "execute_result"
    }
   ],
   "source": [
    "#get the relative frequencies of ethinicity\n",
    "cvd_df['ethnicity'].value_counts(normalize=True)"
   ]
  },
  {
   "cell_type": "code",
   "execution_count": 155,
   "metadata": {},
   "outputs": [
    {
     "data": {
      "text/plain": [
       "6     0.181241\n",
       "15    0.117744\n",
       "7     0.095038\n",
       "5     0.084616\n",
       "4     0.082200\n",
       "3     0.081579\n",
       "8     0.076334\n",
       "14    0.071848\n",
       "9     0.055283\n",
       "2     0.048451\n",
       "10    0.046104\n",
       "11    0.029954\n",
       "1     0.029609\n",
       "Name: income, dtype: float64"
      ]
     },
     "execution_count": 155,
     "metadata": {},
     "output_type": "execute_result"
    }
   ],
   "source": [
    "#get the relative frequencies of income\n",
    "cvd_df['income'].value_counts(normalize=True)"
   ]
  },
  {
   "cell_type": "code",
   "execution_count": 156,
   "metadata": {},
   "outputs": [
    {
     "data": {
      "text/plain": [
       "6"
      ]
     },
     "execution_count": 156,
     "metadata": {},
     "output_type": "execute_result"
    }
   ],
   "source": [
    "#find the mode\n",
    "cvd_df['income'].mode()[0]"
   ]
  },
  {
   "cell_type": "code",
   "execution_count": 157,
   "metadata": {},
   "outputs": [
    {
     "data": {
      "text/plain": [
       "6     0.181241\n",
       "15    0.117744\n",
       "7     0.095038\n",
       "5     0.084616\n",
       "4     0.082200\n",
       "3     0.081579\n",
       "8     0.076334\n",
       "14    0.071848\n",
       "9     0.055283\n",
       "2     0.048451\n",
       "10    0.046104\n",
       "11    0.029954\n",
       "1     0.029609\n",
       "Name: income, dtype: float64"
      ]
     },
     "execution_count": 157,
     "metadata": {},
     "output_type": "execute_result"
    }
   ],
   "source": [
    "# replace 13(under $20,000) by 4($15,000 to $19,999)\n",
    "#replace 12(over $20,000), 77(refused) and 99(don't know) by mode($25,000 to $34,999). \n",
    "cvd_df['income'].replace({13: 4, 12: 6, 77: 6, 99: 6}, inplace=True)\n",
    "cvd_df['income'].value_counts(normalize=True)"
   ]
  },
  {
   "cell_type": "code",
   "execution_count": 158,
   "metadata": {},
   "outputs": [
    {
     "data": {
      "text/plain": [
       "1    0.971634\n",
       "2    0.028366\n",
       "Name: pulse_regular, dtype: float64"
      ]
     },
     "execution_count": 158,
     "metadata": {},
     "output_type": "execute_result"
    }
   ],
   "source": [
    "#get the relative frequencies of pulse_regular\n",
    "cvd_df['pulse_regular'].value_counts(normalize=True)"
   ]
  },
  {
   "cell_type": "markdown",
   "metadata": {},
   "source": [
    "Here 1 means the pulse is regular and 2 means pulse is not regular"
   ]
  },
  {
   "cell_type": "code",
   "execution_count": 159,
   "metadata": {},
   "outputs": [
    {
     "data": {
      "text/plain": [
       "2    0.855477\n",
       "1    0.122714\n",
       "3    0.021188\n",
       "9    0.000621\n",
       "Name: diabetes, dtype: float64"
      ]
     },
     "execution_count": 159,
     "metadata": {},
     "output_type": "execute_result"
    }
   ],
   "source": [
    "#get the relative frequencies of diabetes\n",
    "cvd_df['diabetes'].value_counts(normalize=True)"
   ]
  },
  {
   "cell_type": "markdown",
   "metadata": {},
   "source": [
    "Here 1 means the individual has been told they have diabetes, 2 means no diabetes, 3 means borderline and 9 stands for refused"
   ]
  },
  {
   "cell_type": "code",
   "execution_count": 160,
   "metadata": {},
   "outputs": [],
   "source": [
    "#replace 3 by 1 and 9 by 2\n",
    "cvd_df['diabetes'].replace({3: 1, 9: 2}, inplace=True)"
   ]
  },
  {
   "cell_type": "code",
   "execution_count": 161,
   "metadata": {},
   "outputs": [
    {
     "data": {
      "text/plain": [
       "2    0.856098\n",
       "1    0.143902\n",
       "Name: diabetes, dtype: float64"
      ]
     },
     "execution_count": 161,
     "metadata": {},
     "output_type": "execute_result"
    }
   ],
   "source": [
    "#get the new relative frequencies of diabetes\n",
    "cvd_df['diabetes'].value_counts(normalize=True)"
   ]
  },
  {
   "cell_type": "code",
   "execution_count": 162,
   "metadata": {},
   "outputs": [
    {
     "data": {
      "text/plain": [
       "2    0.966388\n",
       "1    0.032024\n",
       "9    0.001587\n",
       "Name: kidney_fail, dtype: float64"
      ]
     },
     "execution_count": 162,
     "metadata": {},
     "output_type": "execute_result"
    }
   ],
   "source": [
    "#get the relative frequencies of kidney_fail\n",
    "cvd_df['kidney_fail'].value_counts(normalize=True)"
   ]
  },
  {
   "cell_type": "markdown",
   "metadata": {},
   "source": [
    "Here 1 means the individual has had kidney failure, 2 means no kidney failure and 9 stands for refused"
   ]
  },
  {
   "cell_type": "code",
   "execution_count": 163,
   "metadata": {},
   "outputs": [
    {
     "data": {
      "text/plain": [
       "2    0.967976\n",
       "1    0.032024\n",
       "Name: kidney_fail, dtype: float64"
      ]
     },
     "execution_count": 163,
     "metadata": {},
     "output_type": "execute_result"
    }
   ],
   "source": [
    "#replace 9 by 2\n",
    "#get the new relative frequencies of kidney_fail\n",
    "cvd_df['kidney_fail'].replace({9: 2}, inplace=True)\n",
    "cvd_df['kidney_fail'].value_counts(normalize=True)"
   ]
  },
  {
   "cell_type": "code",
   "execution_count": 164,
   "metadata": {},
   "outputs": [
    {
     "data": {
      "text/plain": [
       "2    0.963766\n",
       "1    0.033819\n",
       "9    0.002416\n",
       "Name: congestive_fail, dtype: float64"
      ]
     },
     "execution_count": 164,
     "metadata": {},
     "output_type": "execute_result"
    }
   ],
   "source": [
    "#get the relative frequencies of congestive_fail\n",
    "cvd_df['congestive_fail'].value_counts(normalize=True)"
   ]
  },
  {
   "cell_type": "markdown",
   "metadata": {},
   "source": [
    "Here 1 means the individual has had congestive heart failure, 2 means no congestive heart failure and 9 stands for refused."
   ]
  },
  {
   "cell_type": "code",
   "execution_count": 165,
   "metadata": {},
   "outputs": [
    {
     "data": {
      "text/plain": [
       "2    0.966181\n",
       "1    0.033819\n",
       "Name: congestive_fail, dtype: float64"
      ]
     },
     "execution_count": 165,
     "metadata": {},
     "output_type": "execute_result"
    }
   ],
   "source": [
    "#replace 9 by 2\n",
    "#get the new relative frequencies of congestive_fail\n",
    "cvd_df['congestive_fail'].replace({9: 2}, inplace=True)\n",
    "cvd_df['congestive_fail'].value_counts(normalize=True)"
   ]
  },
  {
   "cell_type": "code",
   "execution_count": 166,
   "metadata": {},
   "outputs": [
    {
     "data": {
      "text/plain": [
       "2    0.954931\n",
       "1    0.040790\n",
       "9    0.004210\n",
       "7    0.000069\n",
       "Name: coronary_disease, dtype: float64"
      ]
     },
     "execution_count": 166,
     "metadata": {},
     "output_type": "execute_result"
    }
   ],
   "source": [
    "#get the relative frequencies of coronary_disease\n",
    "cvd_df['coronary_disease'].value_counts(normalize=True)"
   ]
  },
  {
   "cell_type": "markdown",
   "metadata": {},
   "source": [
    "Here 1 means the individual has had coronary heart disease, 2 means no congestive coronary heart disease and 9 stands for refused."
   ]
  },
  {
   "cell_type": "code",
   "execution_count": 167,
   "metadata": {},
   "outputs": [
    {
     "data": {
      "text/plain": [
       "2    0.95921\n",
       "1    0.04079\n",
       "Name: coronary_disease, dtype: float64"
      ]
     },
     "execution_count": 167,
     "metadata": {},
     "output_type": "execute_result"
    }
   ],
   "source": [
    "#replace 9 by 2\n",
    "#get the new relative frequencies of coronary_disease\n",
    "cvd_df['coronary_disease'].replace({9: 2, 7: 2}, inplace=True)\n",
    "cvd_df['coronary_disease'].value_counts(normalize=True)"
   ]
  },
  {
   "cell_type": "code",
   "execution_count": 168,
   "metadata": {},
   "outputs": [
    {
     "data": {
      "text/plain": [
       "2    0.971358\n",
       "1    0.025606\n",
       "9    0.003037\n",
       "Name: angina, dtype: float64"
      ]
     },
     "execution_count": 168,
     "metadata": {},
     "output_type": "execute_result"
    }
   ],
   "source": [
    "#get the relative frequencies of angina\n",
    "cvd_df['angina'].value_counts(normalize=True)"
   ]
  },
  {
   "cell_type": "markdown",
   "metadata": {},
   "source": [
    "Here 1 means the individual has had angina, 2 means no angina and 9 stands for refused."
   ]
  },
  {
   "cell_type": "code",
   "execution_count": 169,
   "metadata": {},
   "outputs": [
    {
     "data": {
      "text/plain": [
       "2    0.974394\n",
       "1    0.025606\n",
       "Name: angina, dtype: float64"
      ]
     },
     "execution_count": 169,
     "metadata": {},
     "output_type": "execute_result"
    }
   ],
   "source": [
    "#replace 9 by 2\n",
    "#get the new relative frequencies of angina\n",
    "cvd_df['angina'].replace({9: 2}, inplace=True)\n",
    "cvd_df['angina'].value_counts(normalize=True)"
   ]
  },
  {
   "cell_type": "code",
   "execution_count": 170,
   "metadata": {},
   "outputs": [
    {
     "data": {
      "text/plain": [
       "2    0.954793\n",
       "1    0.043826\n",
       "9    0.001380\n",
       "Name: heart_attack, dtype: float64"
      ]
     },
     "execution_count": 170,
     "metadata": {},
     "output_type": "execute_result"
    }
   ],
   "source": [
    "#get the relative frequencies of heart attack\n",
    "cvd_df['heart_attack'].value_counts(normalize=True)"
   ]
  },
  {
   "cell_type": "markdown",
   "metadata": {},
   "source": [
    "Here 1 means the individual has had heart attack, 2 means no heart attack and 9 stands for refused."
   ]
  },
  {
   "cell_type": "code",
   "execution_count": 171,
   "metadata": {},
   "outputs": [
    {
     "data": {
      "text/plain": [
       "2    0.956174\n",
       "1    0.043826\n",
       "Name: heart_attack, dtype: float64"
      ]
     },
     "execution_count": 171,
     "metadata": {},
     "output_type": "execute_result"
    }
   ],
   "source": [
    "#replace 9 by 2\n",
    "#get the new relative frequencies of heart attack\n",
    "cvd_df['heart_attack'].replace({9: 2}, inplace=True)\n",
    "cvd_df['heart_attack'].value_counts(normalize=True)"
   ]
  },
  {
   "cell_type": "code",
   "execution_count": 172,
   "metadata": {},
   "outputs": [
    {
     "data": {
      "text/plain": [
       "2    0.960798\n",
       "1    0.038167\n",
       "9    0.001035\n",
       "Name: stroke, dtype: float64"
      ]
     },
     "execution_count": 172,
     "metadata": {},
     "output_type": "execute_result"
    }
   ],
   "source": [
    "#get the relative frequencies of stroke\n",
    "cvd_df['stroke'].value_counts(normalize=True)"
   ]
  },
  {
   "cell_type": "markdown",
   "metadata": {},
   "source": [
    "Here 1 means the individual has had stroke, 2 means no stroke and 9 stands for refused."
   ]
  },
  {
   "cell_type": "code",
   "execution_count": 173,
   "metadata": {},
   "outputs": [
    {
     "data": {
      "text/plain": [
       "2    0.961833\n",
       "1    0.038167\n",
       "Name: stroke, dtype: float64"
      ]
     },
     "execution_count": 173,
     "metadata": {},
     "output_type": "execute_result"
    }
   ],
   "source": [
    "#replace 9 by 2\n",
    "#get the new relative frequencies of stroke\n",
    "cvd_df['stroke'].replace({9: 2}, inplace=True)\n",
    "cvd_df['stroke'].value_counts(normalize=True)"
   ]
  },
  {
   "cell_type": "code",
   "execution_count": 174,
   "metadata": {},
   "outputs": [
    {
     "data": {
      "text/plain": [
       "2    0.851543\n",
       "1    0.122507\n",
       "9    0.025813\n",
       "7    0.000138\n",
       "Name: fam_history, dtype: float64"
      ]
     },
     "execution_count": 174,
     "metadata": {},
     "output_type": "execute_result"
    }
   ],
   "source": [
    "#get the relative frequencies of family history\n",
    "cvd_df['fam_history'].value_counts(normalize=True)"
   ]
  },
  {
   "cell_type": "markdown",
   "metadata": {},
   "source": [
    "Here 1 means the individual has family history of heart disease, 2 means no family history of heart disease, 7 means don't know and 9 stands for refused."
   ]
  },
  {
   "cell_type": "code",
   "execution_count": 175,
   "metadata": {},
   "outputs": [
    {
     "data": {
      "text/plain": [
       "2    0.877493\n",
       "1    0.122507\n",
       "Name: fam_history, dtype: float64"
      ]
     },
     "execution_count": 175,
     "metadata": {},
     "output_type": "execute_result"
    }
   ],
   "source": [
    "#replace 9 and 7 by 2\n",
    "#get the new relative frequencies of family history\n",
    "cvd_df['fam_history'].replace({9: 2, 7: 2}, inplace=True)\n",
    "cvd_df['fam_history'].value_counts(normalize=True)"
   ]
  },
  {
   "cell_type": "code",
   "execution_count": 176,
   "metadata": {},
   "outputs": [
    {
     "data": {
      "text/plain": [
       "2    0.548899\n",
       "1    0.450066\n",
       "9    0.000897\n",
       "7    0.000138\n",
       "Name: smoking, dtype: float64"
      ]
     },
     "execution_count": 176,
     "metadata": {},
     "output_type": "execute_result"
    }
   ],
   "source": [
    "#get the relative frequencies of smoking\n",
    "cvd_df['smoking'].value_counts(normalize=True)"
   ]
  },
  {
   "cell_type": "markdown",
   "metadata": {},
   "source": [
    "Here 1 means the individual smokes, 2 means no smoking, 7 means don't know and 9 stands for refused."
   ]
  },
  {
   "cell_type": "code",
   "execution_count": 177,
   "metadata": {},
   "outputs": [
    {
     "data": {
      "text/plain": [
       "2    0.549934\n",
       "1    0.450066\n",
       "Name: smoking, dtype: float64"
      ]
     },
     "execution_count": 177,
     "metadata": {},
     "output_type": "execute_result"
    }
   ],
   "source": [
    "#replace 9 and 7 by 2\n",
    "#get the new relative frequencies of smoking\n",
    "cvd_df['smoking'].replace({9: 2, 7: 2}, inplace=True)\n",
    "cvd_df['smoking'].value_counts(normalize=True)"
   ]
  },
  {
   "cell_type": "code",
   "execution_count": 179,
   "metadata": {},
   "outputs": [
    {
     "data": {
      "image/png": "[encoded data removed]",
      "text/plain": [
       "<Figure size 1440x1080 with 25 Axes>"
      ]
     },
     "metadata": {},
     "output_type": "display_data"
    }
   ],
   "source": [
    "#get the new histograms to get an idea of their distributions\n",
    "cvd_df.hist(figsize=(20, 15), color='rebeccapurple')\n",
    "plt.subplots_adjust(hspace=0.5)\n",
    "plt.xticks(fontsize=12, color='black')\n",
    "plt.yticks(fontsize=12, color='black')\n",
    "plt.show()"
   ]
  },
  {
   "cell_type": "code",
   "execution_count": 180,
   "metadata": {},
   "outputs": [],
   "source": [
    "#def a function which takes different heart condions as input and returns 1 if either one is true\n",
    "#this is going to be our target\n",
    "def CVD(heart_1, heart_2, heart_3, heart_4, heart_5):\n",
    "    if ((heart_1 == 1) or (heart_2 == 1) or (heart_3 == 1)\n",
    "       or (heart_4 == 1) or (heart_5 == 1)):\n",
    "        return 1\n",
    "    else:\n",
    "        return 0"
   ]
  },
  {
   "cell_type": "code",
   "execution_count": 181,
   "metadata": {},
   "outputs": [],
   "source": [
    "#apply the function on congestive_fail, coronary_disease, angina, heart_attack and stroke columns in our dataset\n",
    "cvd_df['CVD_risk'] = cvd_df.apply(lambda x: CVD(x['congestive_fail'], x['coronary_disease'],\n",
    "                                         x['angina'], x['heart_attack'], \n",
    "                                         x['stroke']), axis=1)\n",
    "cvd_df = cvd_df.drop(['congestive_fail', 'coronary_disease', 'angina', 'heart_attack', 'stroke'], 1)"
   ]
  },
  {
   "cell_type": "code",
   "execution_count": 182,
   "metadata": {},
   "outputs": [
    {
     "data": {
      "text/html": [
       "<div>\n",
       "<style scoped>\n",
       "    .dataframe tbody tr th:only-of-type {\n",
       "        vertical-align: middle;\n",
       "    }\n",
       "\n",
       "    .dataframe tbody tr th {\n",
       "        vertical-align: top;\n",
       "    }\n",
       "\n",
       "    .dataframe thead th {\n",
       "        text-align: right;\n",
       "    }\n",
       "</style>\n",
       "<table border=\"1\" class=\"dataframe\">\n",
       "  <thead>\n",
       "    <tr style=\"text-align: right;\">\n",
       "      <th></th>\n",
       "      <th>gender</th>\n",
       "      <th>age</th>\n",
       "      <th>ethnicity</th>\n",
       "      <th>income</th>\n",
       "      <th>pulse_regular</th>\n",
       "      <th>sysbp</th>\n",
       "      <th>diabp</th>\n",
       "      <th>bmi</th>\n",
       "      <th>waistcircum</th>\n",
       "      <th>hdl</th>\n",
       "      <th>trigly</th>\n",
       "      <th>ldl</th>\n",
       "      <th>totchol</th>\n",
       "      <th>diabetes</th>\n",
       "      <th>kidney_fail</th>\n",
       "      <th>fam_history</th>\n",
       "      <th>smoking</th>\n",
       "      <th>CVD_risk</th>\n",
       "    </tr>\n",
       "  </thead>\n",
       "  <tbody>\n",
       "    <tr>\n",
       "      <th>0</th>\n",
       "      <td>0</td>\n",
       "      <td>44</td>\n",
       "      <td>4</td>\n",
       "      <td>11</td>\n",
       "      <td>1</td>\n",
       "      <td>144</td>\n",
       "      <td>74</td>\n",
       "      <td>30.90</td>\n",
       "      <td>96.0</td>\n",
       "      <td>39</td>\n",
       "      <td>86</td>\n",
       "      <td>49</td>\n",
       "      <td>105</td>\n",
       "      <td>2</td>\n",
       "      <td>2</td>\n",
       "      <td>1</td>\n",
       "      <td>2</td>\n",
       "      <td>1</td>\n",
       "    </tr>\n",
       "    <tr>\n",
       "      <th>1</th>\n",
       "      <td>0</td>\n",
       "      <td>70</td>\n",
       "      <td>3</td>\n",
       "      <td>11</td>\n",
       "      <td>1</td>\n",
       "      <td>138</td>\n",
       "      <td>60</td>\n",
       "      <td>24.74</td>\n",
       "      <td>96.5</td>\n",
       "      <td>59</td>\n",
       "      <td>65</td>\n",
       "      <td>75</td>\n",
       "      <td>147</td>\n",
       "      <td>1</td>\n",
       "      <td>2</td>\n",
       "      <td>2</td>\n",
       "      <td>2</td>\n",
       "      <td>0</td>\n",
       "    </tr>\n",
       "    <tr>\n",
       "      <th>2</th>\n",
       "      <td>0</td>\n",
       "      <td>73</td>\n",
       "      <td>3</td>\n",
       "      <td>6</td>\n",
       "      <td>1</td>\n",
       "      <td>130</td>\n",
       "      <td>68</td>\n",
       "      <td>30.63</td>\n",
       "      <td>117.1</td>\n",
       "      <td>49</td>\n",
       "      <td>195</td>\n",
       "      <td>98</td>\n",
       "      <td>186</td>\n",
       "      <td>2</td>\n",
       "      <td>2</td>\n",
       "      <td>2</td>\n",
       "      <td>2</td>\n",
       "      <td>0</td>\n",
       "    </tr>\n",
       "    <tr>\n",
       "      <th>3</th>\n",
       "      <td>0</td>\n",
       "      <td>79</td>\n",
       "      <td>3</td>\n",
       "      <td>3</td>\n",
       "      <td>1</td>\n",
       "      <td>144</td>\n",
       "      <td>74</td>\n",
       "      <td>28.93</td>\n",
       "      <td>107.7</td>\n",
       "      <td>81</td>\n",
       "      <td>50</td>\n",
       "      <td>90</td>\n",
       "      <td>181</td>\n",
       "      <td>2</td>\n",
       "      <td>2</td>\n",
       "      <td>2</td>\n",
       "      <td>1</td>\n",
       "      <td>0</td>\n",
       "    </tr>\n",
       "    <tr>\n",
       "      <th>4</th>\n",
       "      <td>0</td>\n",
       "      <td>59</td>\n",
       "      <td>4</td>\n",
       "      <td>7</td>\n",
       "      <td>1</td>\n",
       "      <td>136</td>\n",
       "      <td>76</td>\n",
       "      <td>29.51</td>\n",
       "      <td>101.2</td>\n",
       "      <td>76</td>\n",
       "      <td>123</td>\n",
       "      <td>104</td>\n",
       "      <td>205</td>\n",
       "      <td>1</td>\n",
       "      <td>1</td>\n",
       "      <td>1</td>\n",
       "      <td>1</td>\n",
       "      <td>1</td>\n",
       "    </tr>\n",
       "  </tbody>\n",
       "</table>\n",
       "</div>"
      ],
      "text/plain": [
       "   gender  age  ethnicity  income  pulse_regular  sysbp  diabp    bmi  \\\n",
       "0       0   44          4      11              1    144     74  30.90   \n",
       "1       0   70          3      11              1    138     60  24.74   \n",
       "2       0   73          3       6              1    130     68  30.63   \n",
       "3       0   79          3       3              1    144     74  28.93   \n",
       "4       0   59          4       7              1    136     76  29.51   \n",
       "\n",
       "   waistcircum  hdl  trigly  ldl  totchol  diabetes  kidney_fail  fam_history  \\\n",
       "0         96.0   39      86   49      105         2            2            1   \n",
       "1         96.5   59      65   75      147         1            2            2   \n",
       "2        117.1   49     195   98      186         2            2            2   \n",
       "3        107.7   81      50   90      181         2            2            2   \n",
       "4        101.2   76     123  104      205         1            1            1   \n",
       "\n",
       "   smoking  CVD_risk  \n",
       "0        2         1  \n",
       "1        2         0  \n",
       "2        2         0  \n",
       "3        1         0  \n",
       "4        1         1  "
      ]
     },
     "execution_count": 182,
     "metadata": {},
     "output_type": "execute_result"
    }
   ],
   "source": [
    "cvd_df.head()"
   ]
  },
  {
   "cell_type": "code",
   "execution_count": 183,
   "metadata": {},
   "outputs": [
    {
     "data": {
      "text/plain": [
       "0    0.888812\n",
       "1    0.111188\n",
       "Name: CVD_risk, dtype: float64"
      ]
     },
     "execution_count": 183,
     "metadata": {},
     "output_type": "execute_result"
    }
   ],
   "source": [
    "#get relative frequencies of CVD_risk\n",
    "cvd_df['CVD_risk'].value_counts(normalize=True)"
   ]
  },
  {
   "cell_type": "code",
   "execution_count": 184,
   "metadata": {},
   "outputs": [
    {
     "data": {
      "text/plain": [
       "0    12878\n",
       "1     1611\n",
       "Name: CVD_risk, dtype: int64"
      ]
     },
     "execution_count": 184,
     "metadata": {},
     "output_type": "execute_result"
    }
   ],
   "source": [
    "cvd_df['CVD_risk'].value_counts()"
   ]
  },
  {
   "cell_type": "markdown",
   "metadata": {},
   "source": [
    "Our data is highly imbalanced with about 11% individuals with CVD risk. We may have to take this into account while modeling"
   ]
  },
  {
   "cell_type": "code",
   "execution_count": 185,
   "metadata": {},
   "outputs": [
    {
     "data": {
      "image/png": "[encoded data removed]",
      "text/plain": [
       "<Figure size 576x504 with 1 Axes>"
      ]
     },
     "metadata": {},
     "output_type": "display_data"
    }
   ],
   "source": [
    "#visualize the frequency of our target\n",
    "plt.figure(figsize=(8,7))\n",
    "sns.countplot(x='CVD_risk', data=cvd_df, palette=['forestgreen', 'darkred'])\n",
    "plt.xticks([0,1], ['No', 'Yes'], fontsize= 14, color='black')\n",
    "plt.yticks(fontsize= 14, color='black')\n",
    "plt.xlabel('CVD Risk', fontsize=14, color='black')\n",
    "plt.ylabel('Count',fontsize=14, color='black')\n",
    "plt.show()"
   ]
  },
  {
   "cell_type": "code",
   "execution_count": 75,
   "metadata": {},
   "outputs": [],
   "source": [
    "#setting up a datapath for our file\n",
    "datapath = '../data'\n",
    "if not os.path.exists(datapath):\n",
    "    os.mkdir(datapath)\n",
    "datapath_cvd_data = os.path.join(datapath, 'cvd_data_cleaned.csv')\n",
    "if not os.path.exists(datapath_cvd_data):\n",
    "    cvd_df.to_csv(datapath_cvd_data, index=False)"
   ]
  },
  {
   "cell_type": "code",
   "execution_count": 76,
   "metadata": {},
   "outputs": [
    {
     "data": {
      "text/html": [
       "<div>\n",
       "<style scoped>\n",
       "    .dataframe tbody tr th:only-of-type {\n",
       "        vertical-align: middle;\n",
       "    }\n",
       "\n",
       "    .dataframe tbody tr th {\n",
       "        vertical-align: top;\n",
       "    }\n",
       "\n",
       "    .dataframe thead th {\n",
       "        text-align: right;\n",
       "    }\n",
       "</style>\n",
       "<table border=\"1\" class=\"dataframe\">\n",
       "  <thead>\n",
       "    <tr style=\"text-align: right;\">\n",
       "      <th></th>\n",
       "      <th>gender</th>\n",
       "      <th>age</th>\n",
       "      <th>ethnicity</th>\n",
       "      <th>income</th>\n",
       "      <th>pulse_regular</th>\n",
       "      <th>sysbp</th>\n",
       "      <th>diabp</th>\n",
       "      <th>bmi</th>\n",
       "      <th>waistcircum</th>\n",
       "      <th>hdl</th>\n",
       "      <th>trigly</th>\n",
       "      <th>ldl</th>\n",
       "      <th>totchol</th>\n",
       "      <th>diabetes</th>\n",
       "      <th>kidney_fail</th>\n",
       "      <th>fam_history</th>\n",
       "      <th>smoking</th>\n",
       "      <th>CVD_risk</th>\n",
       "    </tr>\n",
       "  </thead>\n",
       "  <tbody>\n",
       "    <tr>\n",
       "      <th>0</th>\n",
       "      <td>1</td>\n",
       "      <td>44</td>\n",
       "      <td>4</td>\n",
       "      <td>11</td>\n",
       "      <td>1</td>\n",
       "      <td>144</td>\n",
       "      <td>74</td>\n",
       "      <td>30.90</td>\n",
       "      <td>96.0</td>\n",
       "      <td>39</td>\n",
       "      <td>86</td>\n",
       "      <td>49</td>\n",
       "      <td>105</td>\n",
       "      <td>2</td>\n",
       "      <td>2</td>\n",
       "      <td>1</td>\n",
       "      <td>2</td>\n",
       "      <td>1</td>\n",
       "    </tr>\n",
       "    <tr>\n",
       "      <th>1</th>\n",
       "      <td>0</td>\n",
       "      <td>70</td>\n",
       "      <td>3</td>\n",
       "      <td>11</td>\n",
       "      <td>1</td>\n",
       "      <td>138</td>\n",
       "      <td>60</td>\n",
       "      <td>24.74</td>\n",
       "      <td>96.5</td>\n",
       "      <td>59</td>\n",
       "      <td>65</td>\n",
       "      <td>75</td>\n",
       "      <td>147</td>\n",
       "      <td>1</td>\n",
       "      <td>2</td>\n",
       "      <td>2</td>\n",
       "      <td>2</td>\n",
       "      <td>0</td>\n",
       "    </tr>\n",
       "    <tr>\n",
       "      <th>2</th>\n",
       "      <td>0</td>\n",
       "      <td>73</td>\n",
       "      <td>3</td>\n",
       "      <td>6</td>\n",
       "      <td>1</td>\n",
       "      <td>130</td>\n",
       "      <td>68</td>\n",
       "      <td>30.63</td>\n",
       "      <td>117.1</td>\n",
       "      <td>49</td>\n",
       "      <td>195</td>\n",
       "      <td>98</td>\n",
       "      <td>186</td>\n",
       "      <td>2</td>\n",
       "      <td>2</td>\n",
       "      <td>2</td>\n",
       "      <td>2</td>\n",
       "      <td>0</td>\n",
       "    </tr>\n",
       "    <tr>\n",
       "      <th>3</th>\n",
       "      <td>0</td>\n",
       "      <td>79</td>\n",
       "      <td>3</td>\n",
       "      <td>3</td>\n",
       "      <td>1</td>\n",
       "      <td>144</td>\n",
       "      <td>74</td>\n",
       "      <td>28.93</td>\n",
       "      <td>107.7</td>\n",
       "      <td>81</td>\n",
       "      <td>50</td>\n",
       "      <td>90</td>\n",
       "      <td>181</td>\n",
       "      <td>2</td>\n",
       "      <td>2</td>\n",
       "      <td>2</td>\n",
       "      <td>1</td>\n",
       "      <td>0</td>\n",
       "    </tr>\n",
       "    <tr>\n",
       "      <th>4</th>\n",
       "      <td>1</td>\n",
       "      <td>59</td>\n",
       "      <td>4</td>\n",
       "      <td>7</td>\n",
       "      <td>1</td>\n",
       "      <td>136</td>\n",
       "      <td>76</td>\n",
       "      <td>29.51</td>\n",
       "      <td>101.2</td>\n",
       "      <td>76</td>\n",
       "      <td>123</td>\n",
       "      <td>104</td>\n",
       "      <td>205</td>\n",
       "      <td>1</td>\n",
       "      <td>1</td>\n",
       "      <td>1</td>\n",
       "      <td>1</td>\n",
       "      <td>1</td>\n",
       "    </tr>\n",
       "  </tbody>\n",
       "</table>\n",
       "</div>"
      ],
      "text/plain": [
       "   gender  age  ethnicity  income  pulse_regular  sysbp  diabp    bmi  \\\n",
       "0       1   44          4      11              1    144     74  30.90   \n",
       "1       0   70          3      11              1    138     60  24.74   \n",
       "2       0   73          3       6              1    130     68  30.63   \n",
       "3       0   79          3       3              1    144     74  28.93   \n",
       "4       1   59          4       7              1    136     76  29.51   \n",
       "\n",
       "   waistcircum  hdl  trigly  ldl  totchol  diabetes  kidney_fail  fam_history  \\\n",
       "0         96.0   39      86   49      105         2            2            1   \n",
       "1         96.5   59      65   75      147         1            2            2   \n",
       "2        117.1   49     195   98      186         2            2            2   \n",
       "3        107.7   81      50   90      181         2            2            2   \n",
       "4        101.2   76     123  104      205         1            1            1   \n",
       "\n",
       "   smoking  CVD_risk  \n",
       "0        2         1  \n",
       "1        2         0  \n",
       "2        2         0  \n",
       "3        1         0  \n",
       "4        1         1  "
      ]
     },
     "execution_count": 76,
     "metadata": {},
     "output_type": "execute_result"
    }
   ],
   "source": [
    "cvd_df.head()"
   ]
  }
 ],
 "metadata": {
  "kernelspec": {
   "display_name": "Capstone2_env",
   "language": "python",
   "name": "capstone2_env"
  },
  "language_info": {
   "codemirror_mode": {
    "name": "ipython",
    "version": 3
   },
   "file_extension": ".py",
   "mimetype": "text/x-python",
   "name": "python",
   "nbconvert_exporter": "python",
   "pygments_lexer": "ipython3",
   "version": "3.8.3"
  }
 },
 "nbformat": 4,
 "nbformat_minor": 4
}
